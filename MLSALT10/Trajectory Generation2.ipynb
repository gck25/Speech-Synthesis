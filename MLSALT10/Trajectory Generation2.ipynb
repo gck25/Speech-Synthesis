{
 "cells": [
  {
   "cell_type": "code",
   "execution_count": 174,
   "metadata": {},
   "outputs": [],
   "source": [
    "import numpy as np\n",
    "from scipy.optimize import fmin\n",
    "from scipy.optimize import minimize\n",
    "import pdb\n",
    "from numpy.linalg import pinv as inv \n",
    "import numpy as np\n",
    "import matplotlib.pyplot as plt\n",
    "import subprocess"
   ]
  },
  {
   "cell_type": "code",
   "execution_count": 2,
   "metadata": {},
   "outputs": [
    {
     "name": "stdout",
     "output_type": "stream",
     "text": [
      "[1, 2, 3, 4, 5, 6, 7, 8, 9, 10, 11, 12, 13, 14, 15, 16, 17, 18, 19, 20, 21, 22, 23, 24, 25, 26, 27, 28, 29, 30, 31, 32, 33, 34, 35, 36, 37, 38, 39, 40, 41, 42, 43, 44, 45, 46, 47, 48, 49, 50, 51, 52, 53, 54, 55, 56, 57, 58, 59, 60]\n"
     ]
    }
   ],
   "source": [
    "job_list = range(1, 61)\n",
    "print job_list"
   ]
  },
  {
   "cell_type": "code",
   "execution_count": 196,
   "metadata": {},
   "outputs": [
    {
     "data": {
      "text/plain": [
       "('', None)"
      ]
     },
     "execution_count": 196,
     "metadata": {},
     "output_type": "execute_result"
    }
   ],
   "source": [
    "        proc = subprocess.Popen(['/bin/bash'], stdin=subprocess.PIPE, stdout=subprocess.PIPE)\n",
    "        proc.communicate('./scripts/getexpert.sh -hmmdir models/htk -labdir original/lab -stream 1 -dimension '+str(20) +' -outdir expts  -filename utt'+str(1))"
   ]
  },
  {
   "cell_type": "code",
   "execution_count": 197,
   "metadata": {},
   "outputs": [],
   "source": [
    "durationFile = \"expts/utt1.dur.expt\""
   ]
  },
  {
   "cell_type": "code",
   "execution_count": 198,
   "metadata": {},
   "outputs": [],
   "source": [
    "def retDur(durationFile):\n",
    "    durations =[]\n",
    "    with open(durationFile, 'r') as f:\n",
    "        lines = f.read().splitlines()\n",
    "        for row in lines:\n",
    "            moment = row.split()\n",
    "            if len(moment)==10:\n",
    "                for i in range(5):\n",
    "                    durations.append(int(round(float(moment[i]))))\n",
    "    return durations"
   ]
  },
  {
   "cell_type": "code",
   "execution_count": 199,
   "metadata": {},
   "outputs": [],
   "source": [
    "def meansAndVar(uttfile, durations):\n",
    "    with open(uttfile, \"r\") as f:\n",
    "        means=[]\n",
    "        var = []\n",
    "        T = sum(durations)\n",
    "        lines = f.read().splitlines()\n",
    "        for line in lines:\n",
    "            expts = line.split()\n",
    "            if len(expts)==6:\n",
    "                means.append(expts[0:3])\n",
    "                var.append(expts[3:6])\n",
    "        \n",
    "    meansFinal = np.zeros(T * 3)\n",
    "    varFinal = np.zeros(T * 3)\n",
    "    \n",
    "    frame = 0\n",
    "    \n",
    "    for i in range(len(durations)):\n",
    "        for t in range(durations[i]):\n",
    "            meansFinal[frame:frame+3] = means[i]\n",
    "            varFinal[frame:frame+3] = var[i]\n",
    "            frame+=3\n",
    "    \n",
    "    varFinal = np.diag(varFinal)\n",
    "    \n",
    "    \n",
    "    \n",
    "    return (meansFinal, varFinal)"
   ]
  },
  {
   "cell_type": "code",
   "execution_count": 200,
   "metadata": {},
   "outputs": [],
   "source": [
    "durations = retDur(durationFile)"
   ]
  },
  {
   "cell_type": "code",
   "execution_count": 201,
   "metadata": {},
   "outputs": [],
   "source": [
    "uttfile = \"expts/utt1.cmp.expt\""
   ]
  },
  {
   "cell_type": "code",
   "execution_count": 202,
   "metadata": {},
   "outputs": [],
   "source": [
    "def meansAndVar(uttfile, durations):\n",
    "    with open(uttfile, \"r\") as f:\n",
    "        means=[]\n",
    "        var = []\n",
    "        T = sum(durations)\n",
    "        lines = f.read().splitlines()\n",
    "        for line in lines:\n",
    "            expts = line.split()\n",
    "            if len(expts)==6:\n",
    "                means.append(expts[0:3])\n",
    "                var.append(expts[3:6])\n",
    "        \n",
    "    meansFinal = np.zeros(T * 3)\n",
    "    varFinal = np.zeros(T * 3)\n",
    "    \n",
    "    frame = 0\n",
    "    \n",
    "    for i in range(len(durations)):\n",
    "        for t in range(durations[i]):\n",
    "            meansFinal[frame:frame+3] = means[i]\n",
    "            varFinal[frame:frame+3] = var[i]\n",
    "            frame+=3\n",
    "    \n",
    "    varFinal = np.diag(varFinal)\n",
    "    \n",
    "    \n",
    "    \n",
    "    return (meansFinal, varFinal)"
   ]
  },
  {
   "cell_type": "code",
   "execution_count": 203,
   "metadata": {},
   "outputs": [],
   "source": [
    "means, var = meansAndVar(uttfile, durations)"
   ]
  },
  {
   "cell_type": "code",
   "execution_count": 204,
   "metadata": {},
   "outputs": [],
   "source": [
    "def weightMate(durations):\n",
    "    T = sum(durations)\n",
    "    window = np.array([[0.0,0.0,1.0,0.0,0.0],[-0.2,-0.1,0.0,0.1,0.2],[0.285714,-0.142857,-0.285714,-0.142857,0.285714]])\n",
    "    \n",
    "    W = np.zeros([3*T,T])  \n",
    "    frame = 0\n",
    "    counter = 0\n",
    "    for i in range(T):\n",
    "        if i==0:\n",
    "            W[frame:frame+3,0:3]= window[:,2:]\n",
    "            \n",
    "        elif i==1:\n",
    "            W[frame:frame+3,0:4]= window[:,1:]\n",
    "        \n",
    "        elif frame>=1533:\n",
    "            W[frame:frame+3, counter:counter+T-i+2] = window[:,:T-i+2]\n",
    "            counter+=1\n",
    "        else:\n",
    "            \n",
    "            W[frame:frame+3, counter:counter+5] = window\n",
    "            counter+=1\n",
    "        frame+=3\n",
    "        \n",
    "        \n",
    "    \n",
    "    return W"
   ]
  },
  {
   "cell_type": "code",
   "execution_count": 205,
   "metadata": {},
   "outputs": [],
   "source": [
    "W = weightMate(durations)"
   ]
  },
  {
   "cell_type": "code",
   "execution_count": 206,
   "metadata": {},
   "outputs": [],
   "source": [
    "def traj(W, means, var):\n",
    "    varinv = np.linalg.pinv(var)\n",
    "    varMaj = np.linalg.pinv(np.dot(np.dot(np.transpose(W),varinv),W))\n",
    "    mu = np.dot(np.dot(np.dot(varMaj, np.transpose(W)),varinv),means)\n",
    "    return mu, varMaj"
   ]
  },
  {
   "cell_type": "code",
   "execution_count": 207,
   "metadata": {},
   "outputs": [],
   "source": [
    "trajmeans, trajvar = traj(W, means, var)"
   ]
  },
  {
   "cell_type": "code",
   "execution_count": 208,
   "metadata": {},
   "outputs": [
    {
     "data": {
      "text/plain": [
       "array([-5.03971839e-03, -4.99942666e-03, -1.08460817e-03, -1.36086768e-03,\n",
       "       -3.51527018e-03, -3.07063738e-03, -3.35617120e-03, -3.75523258e-03,\n",
       "       -3.62071036e-03, -3.81221584e-03, -3.85633278e-03, -3.85444647e-03,\n",
       "       -3.91711340e-03, -3.91745036e-03, -3.93109206e-03, -3.94601544e-03,\n",
       "       -3.94680397e-03, -3.95425275e-03, -3.95768083e-03, -3.96017067e-03,\n",
       "       -3.96376808e-03, -3.96633442e-03, -3.97127012e-03, -3.97443001e-03,\n",
       "       -3.98253623e-03, -3.99347601e-03, -3.99940303e-03, -4.03073742e-03,\n",
       "       -4.04800015e-03, -4.07586399e-03, -4.17879413e-03, -4.17585880e-03,\n",
       "       -4.34856157e-03, -4.58163509e-03, -4.49663993e-03, -5.36816454e-03,\n",
       "       -5.58987483e-03, -5.84773678e-03, -6.69586077e-03, -7.03169019e-03,\n",
       "       -7.02616869e-03, -1.00545296e-02, -1.06137713e-02, -1.09277615e-02,\n",
       "       -1.35827836e-02, -1.29537987e-02, -1.20872747e-02, -1.10710273e-02,\n",
       "       -6.64028092e-03, -5.85372803e-03, -1.77322516e-03,  1.86324497e-03,\n",
       "       -1.80562966e-04,  1.99261106e-03,  4.32025010e-03,  2.96213476e-03,\n",
       "        2.24486097e-02,  2.54853445e-02,  2.47237907e-02,  3.59986165e-02,\n",
       "        3.26287627e-02,  1.85135092e-02,  1.76469494e-02,  9.67198349e-03,\n",
       "        6.62058995e-03,  9.10117379e-03,  8.20303053e-03,  1.16397310e-02,\n",
       "        1.74968117e-02,  1.98557020e-02,  2.44767776e-02,  2.89584455e-02,\n",
       "        3.10294596e-02,  3.73912766e-02,  3.96447308e-02,  4.26347642e-02,\n",
       "        4.69083871e-02,  3.55005541e-02,  3.35985826e-02,  2.53434226e-02,\n",
       "        4.18996486e-03, -1.22480823e-03, -1.19143154e-02, -2.29573848e-02,\n",
       "       -1.36700791e-02, -2.55361490e-02, -2.37545062e-02, -1.53148397e-02,\n",
       "       -1.43452290e-02, -1.09758452e-02, -8.96153389e-03, -5.79340687e-03,\n",
       "       -6.19935416e-03, -7.82005438e-03,  6.07660463e-03,  5.06201538e-03,\n",
       "       -2.11778769e-03, -1.16872704e-03, -5.03785946e-03,  3.01801810e-03,\n",
       "        3.54129329e-03,  6.49512637e-03,  1.88362694e-02,  1.41955820e-02,\n",
       "        1.48832799e-02,  3.94585021e-03,  6.42176241e-04,  2.97300932e-02,\n",
       "        2.79509039e-02,  3.66665347e-02,  3.28087733e-02,  1.21332137e-02,\n",
       "        1.77839942e-03, -1.33494924e-02, -2.41835001e-02, -3.20176562e-02,\n",
       "       -4.17149566e-02, -4.87403410e-02, -5.54194770e-02, -6.25643523e-02,\n",
       "       -6.86137449e-02, -6.73457321e-02, -6.76580501e-02, -6.63347207e-02,\n",
       "       -6.06849697e-02, -6.41090540e-02, -5.87642253e-02, -5.77219292e-02,\n",
       "       -4.90991949e-02, -2.36913474e-02, -1.42748902e-02, -8.29240678e-03,\n",
       "        4.36465259e-03,  3.59825862e-03,  1.02641047e-02,  1.19002013e-02,\n",
       "        1.10658110e-02,  1.42223246e-02,  1.33951906e-02,  1.29303840e-02,\n",
       "        1.42848209e-02,  1.36303599e-02,  1.31898018e-02,  9.30180635e-03,\n",
       "        6.35809188e-03, -2.11627017e-03, -8.34627242e-03, -1.13024849e-02,\n",
       "       -1.74106422e-02, -1.53539615e-02, -1.68732538e-02, -6.58982713e-03,\n",
       "       -1.15148592e-02, -6.67433338e-03, -1.63389754e-03, -2.33050154e-04,\n",
       "        2.09786726e-03,  6.20044713e-04,  3.11978803e-03,  2.90380964e-03,\n",
       "       -7.97157515e-03, -1.04609389e-02, -1.42027763e-02, -1.93669548e-02,\n",
       "       -2.02725609e-02, -2.27427308e-02, -2.89162604e-02, -2.55669286e-02,\n",
       "       -3.32603945e-02, -3.27552790e-02, -1.46371723e-02, -1.76020546e-02,\n",
       "       -1.34656174e-02, -9.99734973e-03, -1.30581592e-02, -8.27261667e-03,\n",
       "       -9.90410243e-03, -6.38893277e-03, -5.46288533e-03, -5.14867581e-03,\n",
       "        4.22492046e-03,  4.38342433e-03, -1.08629956e-02, -9.66630343e-03,\n",
       "       -1.98043981e-02, -2.38848112e-02, -1.94512559e-02, -2.11197532e-02,\n",
       "       -1.23978016e-02, -1.10271249e-02, -9.10862930e-03, -2.63052824e-03,\n",
       "       -4.01395243e-03, -7.41238201e-04, -4.65148960e-03, -1.30465995e-02,\n",
       "       -1.67085017e-02, -2.75854868e-02, -3.27645926e-02, -3.38537877e-02,\n",
       "       -3.93808197e-02, -4.04960143e-02, -4.03067773e-02, -4.32797197e-02,\n",
       "       -4.22554720e-02, -3.95353823e-02, -4.19568189e-02, -3.40724541e-02,\n",
       "       -2.87373462e-02, -2.21978148e-02, -2.16435620e-02, -2.33861051e-02,\n",
       "       -2.06450896e-02, -2.95635425e-02, -3.86356624e-02, -4.88788471e-02,\n",
       "       -5.15019076e-02, -5.43981368e-02, -6.07391943e-02, -5.75842214e-02,\n",
       "       -5.30906087e-02, -4.94697627e-02, -4.67272892e-02, -4.41527538e-02,\n",
       "       -4.83749739e-02, -4.70601088e-02, -4.06585596e-02, -4.11953434e-02,\n",
       "       -1.84521414e-02, -1.16612607e-02, -1.21959256e-02,  2.11913739e-03,\n",
       "        6.20771704e-06, -8.77462535e-03, -6.37176800e-03, -1.09819116e-02,\n",
       "       -1.22230089e-02, -1.12790208e-02, -1.82512705e-02, -1.05413340e-02,\n",
       "       -2.00755117e-02, -2.06523678e-02,  1.27855713e-03, -1.69072888e-03,\n",
       "        1.02095075e-02,  1.13395423e-02,  7.58107047e-03,  2.12584252e-02,\n",
       "       -2.20212677e-03, -4.90474450e-03, -1.60595603e-02,  1.15534340e-02,\n",
       "        1.90146954e-02,  2.84567757e-02,  4.38083029e-02,  2.93495581e-02,\n",
       "        3.02172384e-02,  1.76228202e-02, -1.03809478e-02, -1.49101951e-02,\n",
       "       -7.13274580e-03, -8.22851981e-03, -1.46427415e-02, -9.06953131e-03,\n",
       "       -8.87240434e-03,  3.76901814e-04,  1.36750175e-02,  7.22908945e-03,\n",
       "        1.94763514e-04,  2.52286136e-02,  2.94300373e-02,  3.72391402e-02,\n",
       "        3.38818859e-02,  1.61284743e-02,  6.84403554e-03, -9.51032879e-03,\n",
       "       -1.65825998e-02, -2.95508339e-02, -4.48471500e-02, -5.16777800e-02,\n",
       "       -6.88872633e-02, -7.35517024e-02, -7.50703411e-02, -7.97999614e-02,\n",
       "       -7.91914271e-02, -8.13064563e-02, -7.44552293e-02, -7.26147685e-02,\n",
       "       -6.75566248e-02, -5.96938084e-02, -6.20391366e-02, -5.19907080e-02,\n",
       "       -5.09100729e-02, -4.41723006e-02, -2.21995930e-02, -1.79122256e-02,\n",
       "       -1.80004234e-02, -1.51380854e-02, -1.57294417e-02, -1.63465856e-02,\n",
       "       -1.37661418e-02, -1.38054299e-02, -9.37945803e-03, -8.10104191e-03,\n",
       "       -4.37540941e-03,  2.06154833e-03,  2.31892315e-03,  1.28162767e-02,\n",
       "        1.51265974e-02,  5.62705055e-03,  8.00882430e-03, -1.10335970e-03,\n",
       "       -4.31789130e-03,  3.60563020e-03, -6.63514063e-03, -1.93686401e-03,\n",
       "        4.58737005e-04,  1.32279146e-03,  3.42989791e-03,  1.15640259e-03,\n",
       "        3.71458315e-03,  3.24849753e-03, -7.76134284e-03, -1.02385735e-02,\n",
       "       -1.40976907e-02, -1.92559648e-02, -2.02205311e-02, -2.26878711e-02,\n",
       "       -2.88619374e-02, -2.56217562e-02, -3.31323021e-02, -3.28446821e-02,\n",
       "       -1.47249055e-02, -1.72668669e-02, -1.40957683e-02, -9.57225219e-03,\n",
       "       -1.28371262e-02, -1.00082432e-02, -7.31609266e-03, -8.09708337e-03,\n",
       "       -2.70204412e-03, -4.45977908e-03, -4.94064138e-03, -2.18174325e-03,\n",
       "       -1.22995179e-03,  2.33212082e-03,  3.50716813e-03,  4.85920237e-03,\n",
       "        9.31645705e-03,  1.08619252e-02,  1.62213776e-02,  2.31381753e-02,\n",
       "        1.67177893e-02,  1.52942846e-02,  3.76885613e-03,  3.38389303e-03,\n",
       "       -6.67183220e-04, -6.85422601e-03, -4.27209988e-03, -6.54915891e-03,\n",
       "       -1.70278989e-03,  1.54580817e-03,  5.06617387e-03,  1.28235187e-02,\n",
       "        1.72780439e-02,  1.52200820e-02,  1.45083344e-02,  1.06736578e-02,\n",
       "        1.15987218e-02,  1.60920641e-02,  2.61156858e-02,  3.14184745e-02,\n",
       "        3.45972239e-02,  3.39664200e-02,  3.23821549e-02,  2.79286276e-02,\n",
       "        2.00918216e-02,  4.68392600e-03, -1.24010826e-02, -1.95291010e-02,\n",
       "       -1.11725172e-02, -1.09537630e-02, -6.10152232e-03, -1.95465666e-03,\n",
       "       -3.63851395e-03, -7.82191354e-03, -1.36650407e-02, -1.58443892e-02,\n",
       "       -1.55474934e-02, -1.76017826e-02, -1.81231694e-02, -1.73653213e-02,\n",
       "       -1.87429860e-02, -1.83448320e-02, -1.49163872e-02, -1.47395760e-02,\n",
       "       -1.28463199e-02, -1.25494536e-02, -8.29463776e-03, -9.34090289e-03,\n",
       "       -5.65447443e-03, -7.40059387e-03, -8.94471455e-03, -3.38361993e-03,\n",
       "       -3.86333722e-03, -1.26169746e-02, -1.46832390e-02, -1.41762720e-02,\n",
       "       -2.05053512e-02, -1.36342163e-02, -1.40269908e-02, -9.27877121e-03,\n",
       "       -1.05898535e-02, -9.99803950e-03, -7.83823779e-03, -1.34790497e-02,\n",
       "       -1.04647324e-02, -1.41252059e-02, -1.99427651e-02, -2.20483492e-02,\n",
       "       -2.89068512e-02, -2.78827379e-02, -1.49320062e-02, -9.62045118e-03,\n",
       "        1.25843678e-03,  2.88802450e-03,  6.74499897e-03,  1.35689953e-02,\n",
       "        1.21312782e-02,  1.55929507e-02,  1.53568488e-02,  1.39081737e-02,\n",
       "        1.72713192e-02,  1.43405334e-02,  1.58710949e-02,  1.65935152e-02,\n",
       "        1.58646000e-02,  1.67191454e-02,  1.22552828e-02,  3.42559468e-03,\n",
       "        4.77867500e-03,  4.03013469e-03,  1.89711566e-04,  3.76341423e-03,\n",
       "       -1.34879601e-03,  5.52201540e-05,  8.57737447e-03,  8.58612850e-03,\n",
       "        1.28333188e-02,  1.51350002e-02,  1.16626756e-02,  1.26313934e-02,\n",
       "        9.18368043e-03,  4.03924013e-03,  2.21454606e-03, -6.12326878e-03,\n",
       "       -9.40252680e-03, -1.28365312e-02, -2.20778165e-02, -2.33716859e-02,\n",
       "       -2.96620048e-02, -2.98268181e-02, -2.51248555e-02, -2.57419906e-02,\n",
       "       -2.41395743e-02, -2.03227554e-02, -1.80703253e-02, -1.70112557e-02,\n",
       "       -5.18610934e-03, -4.89184285e-03, -2.42236620e-03,  7.26334475e-04,\n",
       "        7.15895019e-04,  2.46428920e-03,  2.98091301e-03,  3.40046483e-03,\n",
       "        4.52059880e-03,  3.89521318e-03,  5.62103287e-03,  5.66469419e-03,\n",
       "        3.34112254e-03,  2.63698136e-03,  9.48229331e-04,  9.51830469e-04,\n",
       "        7.20231940e-04,  5.34678537e-04,  5.43958321e-04,  4.41265562e-04,\n",
       "        4.12203280e-04,  3.97346768e-04,  3.65749055e-04,  3.60368322e-04,\n",
       "        3.50203081e-04,  3.42130953e-04,  3.39874803e-04,  3.35136331e-04,\n",
       "        3.33106236e-04,  3.31459085e-04,  3.27915300e-04,  3.28341794e-04,\n",
       "        3.23706323e-04,  3.19075982e-04,  3.23075839e-04,  3.01339024e-04,\n",
       "        3.05962164e-04,  3.02859705e-04,  2.28942514e-04,  3.04599577e-04,\n",
       "        1.81414126e-04,  5.97244720e-05,  3.46310580e-04, -5.01792595e-04,\n",
       "       -7.56805408e-04])"
      ]
     },
     "execution_count": 208,
     "metadata": {},
     "output_type": "execute_result"
    }
   ],
   "source": [
    "trajmeans"
   ]
  },
  {
   "cell_type": "code",
   "execution_count": 209,
   "metadata": {},
   "outputs": [],
   "source": [
    "gmu=float(gmeans[19])\n",
    "gvar = float(gsig[19])\n",
    "\n",
    "trajvar = trajvar\n",
    "x_init = np.zeros(len(trajmeans))\n",
    "#x_init = trajmeans\n",
    "trajvarinv = inv(trajvar)\n",
    "T = sum(durations)"
   ]
  },
  {
   "cell_type": "code",
   "execution_count": 210,
   "metadata": {},
   "outputs": [
    {
     "data": {
      "text/plain": [
       "0.00820411"
      ]
     },
     "execution_count": 210,
     "metadata": {},
     "output_type": "execute_result"
    }
   ],
   "source": [
    "gmu"
   ]
  },
  {
   "cell_type": "code",
   "execution_count": 211,
   "metadata": {},
   "outputs": [],
   "source": [
    "alpha = 3*T"
   ]
  },
  {
   "cell_type": "code",
   "execution_count": 212,
   "metadata": {},
   "outputs": [],
   "source": [
    "def trajfunction(x):\n",
    "    \n",
    "    alpha = 3*T\n",
    "    \n",
    "    orig = (1/2)*np.dot(np.dot(np.transpose(x - trajmeans),trajvarinv), (x-trajmeans))\n",
    "    globvar = (alpha/2) *(x.var()-gmu )**2/gvar\n",
    "    print (orig+globvar)\n",
    "    return (orig+globvar)"
   ]
  },
  {
   "cell_type": "code",
   "execution_count": null,
   "metadata": {},
   "outputs": [],
   "source": []
  },
  {
   "cell_type": "code",
   "execution_count": null,
   "metadata": {},
   "outputs": [],
   "source": []
  },
  {
   "cell_type": "code",
   "execution_count": 213,
   "metadata": {},
   "outputs": [],
   "source": [
    "def jacobian(x):\n",
    "    alpha = 3*T\n",
    "    orig =  np.dot(np.transpose(x-trajmeans), trajvarinv)\n",
    "    globvar = (2*alpha/(gvar*T))*(x.var()-gmu)*(x-np.mean(x))\n",
    "    return (orig+globvar)"
   ]
  },
  {
   "cell_type": "code",
   "execution_count": null,
   "metadata": {},
   "outputs": [],
   "source": []
  },
  {
   "cell_type": "code",
   "execution_count": 214,
   "metadata": {},
   "outputs": [
    {
     "name": "stdout",
     "output_type": "stream",
     "text": [
      "15292.982953572413\n",
      "8987.425456635829\n",
      "357489.66489467566\n",
      "1028.7514512409607\n",
      "453.09618827229934\n",
      "47620.162277706164\n",
      "75.43764172831595\n",
      "75.43764172831595\n",
      "13428.188845371005\n",
      "183.046514189523\n",
      "81.2514743789236\n",
      "75.84105027356588\n",
      "75.46616976343103\n",
      "75.43966188777917\n",
      "75.43778479583116\n",
      "75.43765186041381\n",
      "75.43764244587533\n",
      "75.43764177913395\n",
      "75.437641731915\n",
      "75.43764172857077\n",
      "75.43764172833436\n",
      "75.43764172831733\n",
      "75.43764172831595\n",
      "75.43764172831595\n",
      "75.43764172831665\n",
      "75.43764172831595\n",
      "75.43764172831595\n",
      "75.43764172831665\n",
      "1.5808992379363565e+17\n",
      "122379962760921.8\n",
      "93814253552.4607\n",
      "67613607.63658078\n",
      "28980.519841839778\n",
      "174.8485621984062\n",
      "319.0190448838278\n",
      "129.4623034046418\n",
      "84.62051408749198\n",
      "77.01520665196743\n",
      "75.71016585828808\n",
      "75.48477170937525\n",
      "75.44579390256422\n",
      "75.43905187472888\n",
      "75.43788565397173\n",
      "75.43768392236395\n",
      "75.43764902700725\n",
      "75.43764299083777\n",
      "75.43764194670607\n",
      "75.43764176609277\n"
     ]
    }
   ],
   "source": [
    "mini= minimize(trajfunction, x_init, jac = jacobian, method='L-BFGS-B')"
   ]
  },
  {
   "cell_type": "code",
   "execution_count": 215,
   "metadata": {},
   "outputs": [
    {
     "name": "stdout",
     "output_type": "stream",
     "text": [
      "75.43764172831595\n"
     ]
    },
    {
     "data": {
      "text/plain": [
       "75.43764172831595"
      ]
     },
     "execution_count": 215,
     "metadata": {},
     "output_type": "execute_result"
    }
   ],
   "source": [
    "trajfunction(mini.x)"
   ]
  },
  {
   "cell_type": "code",
   "execution_count": 217,
   "metadata": {},
   "outputs": [
    {
     "data": {
      "image/png": "[encoded data removed]",
      "text/plain": [
       "<matplotlib.figure.Figure at 0x7f95160fab90>"
      ]
     },
     "metadata": {},
     "output_type": "display_data"
    }
   ],
   "source": [
    "plt.plot(mini.x)\n",
    "plt.plot(trajmeans)\n",
    "plt.show()"
   ]
  },
  {
   "cell_type": "code",
   "execution_count": null,
   "metadata": {},
   "outputs": [],
   "source": []
  },
  {
   "cell_type": "code",
   "execution_count": 15,
   "metadata": {},
   "outputs": [],
   "source": [
    "gvarmean = subprocess.check_output(['./bin/x2x', '+da', 'models/hts/gv-mcep.pdf'])\n",
    "gvarmean= gvarmean.split()\n",
    "\n",
    "gmeans = gvarmean[0:60]\n",
    "gsig = gvarmean[60:120]"
   ]
  },
  {
   "cell_type": "code",
   "execution_count": 134,
   "metadata": {},
   "outputs": [
    {
     "data": {
      "text/plain": [
       "array([0., 0., 0., 0., 0., 0., 0., 0., 0., 0., 0., 0., 0., 0., 0., 0., 0.,\n",
       "       0., 0., 0., 0., 0., 0., 0., 0., 0., 0., 0., 0., 0., 0., 0., 0., 0.,\n",
       "       0., 0., 0., 0., 0., 0., 0., 0., 0., 0., 0., 0., 0., 0., 0., 0., 0.,\n",
       "       0., 0., 0., 0., 0., 0., 0., 0., 0., 0., 0., 0., 0., 0., 0., 0., 0.,\n",
       "       0., 0., 0., 0., 0., 0., 0., 0., 0., 0., 0., 0., 0., 0., 0., 0., 0.,\n",
       "       0., 0., 0., 0., 0., 0., 0., 0., 0., 0., 0., 0., 0., 0., 0., 0., 0.,\n",
       "       0., 0., 0., 0., 0., 0., 0., 0., 0., 0., 0., 0., 0., 0., 0., 0., 0.,\n",
       "       0., 0., 0., 0., 0., 0., 0., 0., 0., 0., 0., 0., 0., 0., 0., 0., 0.,\n",
       "       0., 0., 0., 0., 0., 0., 0., 0., 0., 0., 0., 0., 0., 0., 0., 0., 0.,\n",
       "       0., 0., 0., 0., 0., 0., 0., 0., 0., 0., 0., 0., 0., 0., 0., 0., 0.,\n",
       "       0., 0., 0., 0., 0., 0., 0., 0., 0., 0., 0., 0., 0., 0., 0., 0., 0.,\n",
       "       0., 0., 0., 0., 0., 0., 0., 0., 0., 0., 0., 0., 0., 0., 0., 0., 0.,\n",
       "       0., 0., 0., 0., 0., 0., 0., 0., 0., 0., 0., 0., 0., 0., 0., 0., 0.,\n",
       "       0., 0., 0., 0., 0., 0., 0., 0., 0., 0., 0., 0., 0., 0., 0., 0., 0.,\n",
       "       0., 0., 0., 0., 0., 0., 0., 0., 0., 0., 0., 0., 0., 0., 0., 0., 0.,\n",
       "       0., 0., 0., 0., 0., 0., 0., 0., 0., 0., 0., 0., 0., 0., 0., 0., 0.,\n",
       "       0., 0., 0., 0., 0., 0., 0., 0., 0., 0., 0., 0., 0., 0., 0., 0., 0.,\n",
       "       0., 0., 0., 0., 0., 0., 0., 0., 0., 0., 0., 0., 0., 0., 0., 0., 0.,\n",
       "       0., 0., 0., 0., 0., 0., 0., 0., 0., 0., 0., 0., 0., 0., 0., 0., 0.,\n",
       "       0., 0., 0., 0., 0., 0., 0., 0., 0., 0., 0., 0., 0., 0., 0., 0., 0.,\n",
       "       0., 0., 0., 0., 0., 0., 0., 0., 0., 0., 0., 0., 0., 0., 0., 0., 0.,\n",
       "       0., 0., 0., 0., 0., 0., 0., 0., 0., 0., 0., 0., 0., 0., 0., 0., 0.,\n",
       "       0., 0., 0., 0., 0., 0., 0., 0., 0., 0., 0., 0., 0., 0., 0., 0., 0.,\n",
       "       0., 0., 0., 0., 0., 0., 0., 0., 0., 0., 0., 0., 0., 0., 0., 0., 0.,\n",
       "       0., 0., 0., 0., 0., 0., 0., 0., 0., 0., 0., 0., 0., 0., 0., 0., 0.,\n",
       "       0., 0., 0., 0., 0., 0., 0., 0., 0., 0., 0., 0., 0., 0., 0., 0., 0.,\n",
       "       0., 0., 0., 0., 0., 0., 0., 0., 0., 0., 0., 0., 0., 0., 0., 0., 0.,\n",
       "       0., 0., 0., 0., 0., 0., 0., 0., 0., 0., 0., 0., 0., 0., 0., 0., 0.,\n",
       "       0., 0., 0., 0., 0., 0., 0., 0., 0., 0., 0., 0., 0., 0., 0., 0., 0.,\n",
       "       0., 0., 0., 0., 0., 0., 0., 0., 0., 0., 0., 0., 0., 0., 0., 0., 0.,\n",
       "       0., 0., 0.])"
      ]
     },
     "execution_count": 134,
     "metadata": {},
     "output_type": "execute_result"
    }
   ],
   "source": [
    "minimum.x\n"
   ]
  },
  {
   "cell_type": "code",
   "execution_count": 65,
   "metadata": {},
   "outputs": [
    {
     "data": {
      "image/png": "[encoded data removed]",
      "text/plain": [
       "<matplotlib.figure.Figure at 0x7fecd8ae4050>"
      ]
     },
     "metadata": {},
     "output_type": "display_data"
    }
   ],
   "source": [
    "plt.plot(minimum)\n",
    "plt.show()"
   ]
  },
  {
   "cell_type": "code",
   "execution_count": 61,
   "metadata": {},
   "outputs": [
    {
     "data": {
      "image/png": "[encoded data removed]",
      "text/plain": [
       "<matplotlib.figure.Figure at 0x7fecd5c290d0>"
      ]
     },
     "metadata": {},
     "output_type": "display_data"
    }
   ],
   "source": [
    "plt.plot(minimum)\n",
    "plt.show()"
   ]
  },
  {
   "cell_type": "code",
   "execution_count": 57,
   "metadata": {},
   "outputs": [
    {
     "data": {
      "image/png": "[encoded data removed]",
      "text/plain": [
       "<matplotlib.figure.Figure at 0x7fed7ab91e50>"
      ]
     },
     "metadata": {},
     "output_type": "display_data"
    }
   ],
   "source": [
    "plt.plot(minimum)\n",
    "plt.show()"
   ]
  },
  {
   "cell_type": "code",
   "execution_count": 53,
   "metadata": {},
   "outputs": [
    {
     "data": {
      "image/png": "[encoded data removed]",
      "text/plain": [
       "<matplotlib.figure.Figure at 0x7fed70460ed0>"
      ]
     },
     "metadata": {},
     "output_type": "display_data"
    }
   ],
   "source": [
    "plt.plot(minimum)\n",
    "plt.show()"
   ]
  },
  {
   "cell_type": "code",
   "execution_count": 54,
   "metadata": {},
   "outputs": [
    {
     "data": {
      "image/png": "[encoded data removed]",
      "text/plain": [
       "<matplotlib.figure.Figure at 0x7fecd5e4b750>"
      ]
     },
     "metadata": {},
     "output_type": "display_data"
    }
   ],
   "source": [
    "plt.plot(trajmeans)\n",
    "plt.show()"
   ]
  },
  {
   "cell_type": "code",
   "execution_count": 86,
   "metadata": {},
   "outputs": [
    {
     "name": "stdout",
     "output_type": "stream",
     "text": [
      "20585.2963953865\n"
     ]
    },
    {
     "data": {
      "text/plain": [
       "20585.2963953865"
      ]
     },
     "execution_count": 86,
     "metadata": {},
     "output_type": "execute_result"
    }
   ],
   "source": [
    "trajfunction(x_init)"
   ]
  },
  {
   "cell_type": "code",
   "execution_count": 87,
   "metadata": {},
   "outputs": [
    {
     "name": "stdout",
     "output_type": "stream",
     "text": [
      "513 [ 0.20936855  0.21860795  0.35063417  0.3715678   0.36043388  0.38423823\n",
      "  0.37156129  0.37473572  0.37820546  0.3739137   0.37682822  0.37618898\n",
      "  0.37565491  0.37657629  0.37600581  0.37619448  0.37630046  0.37612441\n",
      "  0.3762511   0.37618075  0.37616054  0.37616221  0.37605007  0.37607735\n",
      "  0.37588851  0.37576304  0.37575665  0.37507179  0.37519177  0.37452847\n",
      "  0.37298663  0.37396093  0.36995049  0.36877881  0.36903096  0.35304193\n",
      "  0.34873421  0.33666911  0.32745321  0.31756324  0.31576248  0.29111293\n",
      "  0.28106879  0.27808933  0.26056268  0.25943751  0.30239405  0.30795204\n",
      "  0.31875381  0.33884519  0.31162244  0.28027104  0.19638547 -0.08268807\n",
      " -0.33532663 -0.3996012  -0.56464913 -0.56292731 -0.55033879 -0.58139122\n",
      " -0.55854813 -0.52036736 -0.5666135  -0.60680029 -0.66078522 -0.82469138\n",
      " -0.93225893 -0.93344009 -0.99813788 -0.98491252 -0.9978609  -1.02496028\n",
      " -0.99940236 -1.03122653 -1.02200156 -1.00721342 -1.0267602  -0.95454474\n",
      " -0.93057716 -0.86587447 -0.71543481 -0.65011763 -0.46807142 -0.32137269\n",
      " -0.17256889  0.0921706   0.15769456  0.35638316  0.38768833  0.32815744\n",
      "  0.41148132  0.35684316  0.27694157  0.27893433 -0.04438046 -0.04675526\n",
      "  0.03171367 -0.03107165  0.08699725  0.06190293  0.07148807  0.06995933\n",
      " -0.07110744  0.02443239 -0.04959835 -0.04742336 -0.14969596 -0.31064357\n",
      " -0.3587958  -0.40566503 -0.41967789 -0.40640417 -0.38727111 -0.32358158\n",
      " -0.3078647  -0.30218469 -0.25238112 -0.25146962 -0.2202259  -0.17225797\n",
      " -0.16083018 -0.1343293  -0.11135372 -0.12462615 -0.12259664 -0.13615407\n",
      " -0.18722469 -0.21669932 -0.27129776 -0.33329741 -0.37742363 -0.41964861\n",
      " -0.47342018 -0.48191285 -0.50205856 -0.50727591 -0.5136607  -0.52383261\n",
      " -0.52603529 -0.53281844 -0.54046501 -0.54564774 -0.55611572 -0.54966099\n",
      " -0.54889051 -0.54362849 -0.52173915 -0.49218945 -0.46983667 -0.38998118\n",
      " -0.33717934 -0.22428174 -0.12681987 -0.07300052  0.01182962  0.00825649\n",
      " -0.09843601 -0.09537585 -0.18692336 -0.21522823 -0.30353076 -0.33697668\n",
      " -0.33696866 -0.37625135 -0.38319836 -0.36418658 -0.40189034 -0.3637767\n",
      " -0.30647281 -0.27909581 -0.14449805 -0.09197355 -0.01046819  0.07473282\n",
      "  0.19945637  0.25736523  0.2791843   0.22763084  0.20542871  0.08448952\n",
      " -0.13353363 -0.17019919 -0.1975708  -0.19752412 -0.20524533 -0.20873886\n",
      " -0.14945767 -0.15041432 -0.13626828 -0.10580062 -0.15216075 -0.08276465\n",
      " -0.14525691 -0.2393995  -0.26312267 -0.37402767 -0.39652593 -0.43010806\n",
      " -0.45022272 -0.45647757 -0.47721579 -0.48301385 -0.49082285 -0.50635345\n",
      " -0.50905352 -0.52090435 -0.53442103 -0.53578346 -0.55261567 -0.55612434\n",
      " -0.57305694 -0.59056562 -0.59932823 -0.62506976 -0.64775518 -0.67508309\n",
      " -0.69726736 -0.71792215 -0.7431158  -0.74987875 -0.76810756 -0.76439406\n",
      " -0.66483481 -0.63754011 -0.4842119  -0.3489472  -0.17434293 -0.01485838\n",
      "  0.12767325  0.22151656  0.16764739 -0.04905731 -0.08959971 -0.10776055\n",
      " -0.15870308 -0.1215209  -0.17584798 -0.15980838 -0.10193739 -0.14198565\n",
      " -0.08502684 -0.12390537 -0.22625599 -0.24774771 -0.35307758 -0.3726198\n",
      " -0.3570799  -0.37331097 -0.32577215 -0.28867813 -0.21038294 -0.12674849\n",
      " -0.13688182 -0.08442327 -0.08872689 -0.0718021  -0.02965307 -0.03809446\n",
      " -0.00364861 -0.00215686 -0.00351047 -0.01111293 -0.04102231  0.01037863\n",
      "  0.03335511 -0.03074385 -0.0330905  -0.04809548 -0.11040762 -0.28367203\n",
      " -0.34218695 -0.37246182 -0.39275901 -0.38824727 -0.34856485 -0.3110367\n",
      " -0.31742048 -0.33945274 -0.34827582 -0.3806542  -0.40555176 -0.42591886\n",
      " -0.44204422 -0.46155046 -0.47618068 -0.49833083 -0.53092779 -0.56801999\n",
      " -0.59288682 -0.635496   -0.66415909 -0.6806733  -0.72165158 -0.69781232\n",
      " -0.70395774 -0.69749599 -0.67763734 -0.70043715 -0.69693289 -0.71906011\n",
      " -0.74911843 -0.72958283 -0.76312669 -0.7569452  -0.74681824 -0.77153289\n",
      " -0.73332895 -0.7348652  -0.71446687 -0.62493054 -0.60328744 -0.44771044\n",
      " -0.35675906 -0.27054172 -0.11931967 -0.07180122  0.00945208  0.0202496\n",
      " -0.10014005 -0.09211037 -0.18441806 -0.21531747 -0.30232733 -0.33604932\n",
      " -0.33686319 -0.37566511 -0.381984   -0.36476711 -0.40041585 -0.36236856\n",
      " -0.30799413 -0.27385114 -0.14569399 -0.09048275  0.00106247  0.06678269\n",
      "  0.21970157  0.27107814  0.28535828  0.34866213  0.33781343  0.34881249\n",
      "  0.3105161   0.12637226 -0.00868486 -0.06031926 -0.20521551 -0.17786365\n",
      " -0.1960916  -0.20143022 -0.09452166 -0.05362708 -0.10154812 -0.18375327\n",
      " -0.34076527 -0.37934808 -0.48881441 -0.55042351 -0.56424612 -0.64188238\n",
      " -0.62598946 -0.64894737 -0.67159701 -0.62346792 -0.64663991 -0.56884297\n",
      " -0.50568766 -0.44976838 -0.28236339 -0.16434527 -0.12455885 -0.04983035\n",
      " -0.04614255 -0.02135937  0.0057097  -0.00632946  0.01971884  0.01879372\n",
      "  0.0177937   0.00836848  0.03136702  0.03457151  0.10147975  0.16083553\n",
      "  0.2076743   0.20705437  0.19207747  0.18200875  0.17740056  0.16333431\n",
      "  0.16386801  0.16179932  0.14348622  0.16490455  0.13970454  0.13197353\n",
      "  0.22801684  0.25538159  0.23867978  0.31532857  0.26041292  0.28209575\n",
      "  0.20711821 -0.04190214 -0.07374258 -0.10771614 -0.1074772  -0.0758391\n",
      " -0.04479061 -0.14264192 -0.23356758 -0.36825849 -0.37318932 -0.38927386\n",
      " -0.3963668  -0.37289939 -0.36711863 -0.32938321 -0.28219838 -0.2356025\n",
      " -0.1474543  -0.07561489 -0.05933005 -0.01152313 -0.00313699  0.01291602\n",
      "  0.03557164  0.0419329   0.05818359  0.06936111  0.07430851  0.09100423\n",
      "  0.09642947  0.10685003  0.11864694  0.12263309  0.15596627  0.18682874\n",
      "  0.22085172  0.23632331  0.29150092  0.29941353  0.29494082  0.26746676\n",
      "  0.27569064  0.26005102  0.07289874  0.03805016 -0.15222537 -0.20715309\n",
      " -0.22550754 -0.24720257 -0.22019728 -0.18219369 -0.16933517 -0.14534346\n",
      " -0.13543023 -0.11594227 -0.09492601 -0.09054755 -0.03202659 -0.02276082\n",
      "  0.0074917   0.04237562  0.052065    0.0886443   0.12669945  0.13571824\n",
      "  0.21359468  0.2173068   0.228658    0.25286475  0.24998367  0.26299866\n",
      "  0.26782194  0.27117698  0.28006785  0.28050917  0.29316257  0.29634568\n",
      "  0.30153395  0.31817036  0.32103083  0.35296472  0.3529378   0.35565836\n",
      "  0.36400883  0.36236257  0.36554186  0.36698818  0.36684354  0.36821866\n",
      "  0.36826442  0.36853417  0.3688744   0.36878672  0.36902228  0.36883187\n",
      "  0.3688516   0.36890113  0.36807883  0.36870373  0.36755907  0.36625721\n",
      "  0.36823492  0.36207119  0.36404169  0.3639664   0.34599142  0.36520439\n",
      "  0.33534715  0.30866671  0.32862137] [[ 1.73945531e+02 -1.61471377e-01 -5.87039498e+01 ... -3.67136401e-15\n",
      "  -4.69324170e-15  3.51245931e-15]\n",
      " [-1.61471377e-01  1.90622637e+02  1.37864723e+01 ... -2.58519946e-15\n",
      "   2.15259746e-15  1.52771137e-15]\n",
      " [-5.87039498e+01  1.37864723e+01  2.15828071e+02 ...  4.12264515e-16\n",
      "   6.56831404e-15  7.06049017e-15]\n",
      " ...\n",
      " [ 7.44867657e-15  4.37710936e-15  1.82619052e-14 ...  1.96620383e+02\n",
      "   1.38980764e+01 -4.50099021e+01]\n",
      " [ 6.27169044e-15 -3.72764961e-15  5.67892140e-16 ...  1.38980764e+01\n",
      "   1.38058114e+02  5.57597748e+00]\n",
      " [-3.96116916e-16 -2.42254843e-15  2.70905819e-15 ... -4.50099021e+01\n",
      "   5.57597748e+00  1.23786554e+02]] 0.192342 0.00138203\n"
     ]
    }
   ],
   "source": [
    "print T,trajmeans,trajvarinv,gmu,gvar"
   ]
  },
  {
   "cell_type": "code",
   "execution_count": null,
   "metadata": {},
   "outputs": [],
   "source": []
  },
  {
   "cell_type": "code",
   "execution_count": null,
   "metadata": {},
   "outputs": [],
   "source": []
  },
  {
   "cell_type": "code",
   "execution_count": 28,
   "metadata": {},
   "outputs": [],
   "source": []
  },
  {
   "cell_type": "code",
   "execution_count": null,
   "metadata": {},
   "outputs": [],
   "source": []
  },
  {
   "cell_type": "code",
   "execution_count": null,
   "metadata": {},
   "outputs": [],
   "source": []
  },
  {
   "cell_type": "code",
   "execution_count": null,
   "metadata": {},
   "outputs": [],
   "source": []
  }
 ],
 "metadata": {
  "kernelspec": {
   "display_name": "Python 2",
   "language": "python",
   "name": "python2"
  },
  "language_info": {
   "codemirror_mode": {
    "name": "ipython",
    "version": 2
   },
   "file_extension": ".py",
   "mimetype": "text/x-python",
   "name": "python",
   "nbconvert_exporter": "python",
   "pygments_lexer": "ipython2",
   "version": "2.7.12"
  }
 },
 "nbformat": 4,
 "nbformat_minor": 2
}

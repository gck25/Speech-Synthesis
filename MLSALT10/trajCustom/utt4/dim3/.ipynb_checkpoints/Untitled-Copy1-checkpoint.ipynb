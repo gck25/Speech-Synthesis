{
 "cells": [
  {
   "cell_type": "code",
   "execution_count": 5,
   "metadata": {},
   "outputs": [],
   "source": [
    "cNoGV = []\n",
    "with open('cNoGV.txt','r') as f:\n",
    "    for l in f:\n",
    "        cNoGV.append(float(l))\n",
    "    "
   ]
  },
  {
   "cell_type": "code",
   "execution_count": 6,
   "metadata": {},
   "outputs": [],
   "source": [
    "cExpGV = []\n",
    "with open('cExpGV.txt','r') as f:\n",
    "    for l in f:\n",
    "        cExpGV.append(float(l))\n",
    "    "
   ]
  },
  {
   "cell_type": "code",
   "execution_count": 8,
   "metadata": {},
   "outputs": [],
   "source": [
    "cConstGV = []\n",
    "with open('cConstGV.txt','r') as f:\n",
    "    for l in f:\n",
    "        cConstGV.append(float(l))"
   ]
  },
  {
   "cell_type": "code",
   "execution_count": 24,
   "metadata": {},
   "outputs": [],
   "source": [
    "import matplotlib.pyplot as plt\n",
    "\n",
    "nogv, = plt.plot(cNoGV, label = 'nogv')\n",
    "expgv, = plt.plot(cExpGV, label = 'expgv')\n",
    "plt.xlabel('Frame')\n",
    "plt.ylabel('MCEP Value')\n",
    "plt.legend([nogv, expgv], ['MLE', 'GV Expert'])\n",
    "plt.savefig('expNo.pdf')"
   ]
  },
  {
   "cell_type": "code",
   "execution_count": 27,
   "metadata": {},
   "outputs": [],
   "source": [
    "nogv, = plt.plot(cNoGV, label = 'nogv')\n",
    "cogv, = plt.plot(cConstGV, label = 'cogv')\n",
    "plt.xlabel('Frame')\n",
    "plt.ylabel('MCEP Value')\n",
    "\n",
    "plt.legend([nogv, cogv, expgv], ['MLE', 'GV Constraint'])\n",
    "plt.savefig('constNo.pdf')"
   ]
  },
  {
   "cell_type": "code",
   "execution_count": null,
   "metadata": {},
   "outputs": [],
   "source": []
  }
 ],
 "metadata": {
  "kernelspec": {
   "display_name": "Python 2",
   "language": "python",
   "name": "python2"
  },
  "language_info": {
   "codemirror_mode": {
    "name": "ipython",
    "version": 2
   },
   "file_extension": ".py",
   "mimetype": "text/x-python",
   "name": "python",
   "nbconvert_exporter": "python",
   "pygments_lexer": "ipython2",
   "version": "2.7.12"
  }
 },
 "nbformat": 4,
 "nbformat_minor": 2
}

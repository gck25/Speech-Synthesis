{
 "cells": [
  {
   "cell_type": "code",
   "execution_count": 3,
   "metadata": {},
   "outputs": [],
   "source": [
    "import csv\n",
    "a =csv.reader(\"utt1.csv\", dialect='excel', )"
   ]
  },
  {
   "cell_type": "code",
   "execution_count": 4,
   "metadata": {},
   "outputs": [
    {
     "data": {
      "text/plain": [
       "<_csv.reader at 0x7f76d85b20c0>"
      ]
     },
     "execution_count": 4,
     "metadata": {},
     "output_type": "execute_result"
    }
   ],
   "source": [
    "a"
   ]
  },
  {
   "cell_type": "code",
   "execution_count": 10,
   "metadata": {},
   "outputs": [],
   "source": [
    "orig = []\n",
    "with open('utt1.csv', 'rb') as csvfile:\n",
    "    utt1 = csv.reader(csvfile)\n",
    "    for row in utt1:\n",
    "        orig.append(row)"
   ]
  },
  {
   "cell_type": "code",
   "execution_count": 16,
   "metadata": {},
   "outputs": [],
   "source": [
    "import pandas as pd"
   ]
  },
  {
   "cell_type": "code",
   "execution_count": 24,
   "metadata": {},
   "outputs": [],
   "source": [
    "orig =pd.DataFrame.transpose(orig)"
   ]
  },
  {
   "cell_type": "code",
   "execution_count": 25,
   "metadata": {},
   "outputs": [
    {
     "data": {
      "text/plain": [
       "0         3.3148\n",
       "1         2.7688\n",
       "2         1.4567\n",
       "3         1.4368\n",
       "4         1.5723\n",
       "5         1.6722\n",
       "6         1.6275\n",
       "7         -0.732\n",
       "8       -0.19253\n",
       "9         2.0834\n",
       "10        1.5729\n",
       "11       0.40505\n",
       "12      -0.70666\n",
       "13       0.33863\n",
       "14      -0.83077\n",
       "15      -0.90677\n",
       "16      -0.21338\n",
       "17       0.60881\n",
       "18       0.87932\n",
       "19        1.4373\n",
       "20        1.5656\n",
       "21        1.5366\n",
       "22      0.040251\n",
       "23      -0.60727\n",
       "24     -0.086964\n",
       "25        1.3742\n",
       "26        2.0955\n",
       "27        2.8182\n",
       "28        6.3137\n",
       "29        5.9949\n",
       "         ...    \n",
       "518       1.5036\n",
       "519        1.437\n",
       "520       1.4028\n",
       "521        1.477\n",
       "522        1.494\n",
       "523       1.4602\n",
       "524       1.4587\n",
       "525       1.3548\n",
       "526      0.94053\n",
       "527      0.89486\n",
       "528        1.029\n",
       "529       1.2635\n",
       "530        1.362\n",
       "531        1.357\n",
       "532       1.4351\n",
       "533       1.3745\n",
       "534       1.3195\n",
       "535       1.3096\n",
       "536        1.349\n",
       "537       1.4572\n",
       "538       1.4766\n",
       "539        1.459\n",
       "540       1.3332\n",
       "541       1.2612\n",
       "542       1.2135\n",
       "543       1.3236\n",
       "544       1.3949\n",
       "545       1.2867\n",
       "546        1.196\n",
       "547       1.0924\n",
       "Name: 0, dtype: object"
      ]
     },
     "execution_count": 25,
     "metadata": {},
     "output_type": "execute_result"
    }
   ],
   "source": [
    "orig[0]"
   ]
  },
  {
   "cell_type": "code",
   "execution_count": null,
   "metadata": {},
   "outputs": [],
   "source": []
  }
 ],
 "metadata": {
  "kernelspec": {
   "display_name": "Python 2",
   "language": "python",
   "name": "python2"
  },
  "language_info": {
   "codemirror_mode": {
    "name": "ipython",
    "version": 2
   },
   "file_extension": ".py",
   "mimetype": "text/x-python",
   "name": "python",
   "nbconvert_exporter": "python",
   "pygments_lexer": "ipython2",
   "version": "2.7.12"
  }
 },
 "nbformat": 4,
 "nbformat_minor": 2
}

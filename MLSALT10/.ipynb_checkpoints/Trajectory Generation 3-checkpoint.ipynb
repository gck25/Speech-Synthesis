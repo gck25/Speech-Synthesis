{
 "cells": [
  {
   "cell_type": "code",
   "execution_count": 2,
   "metadata": {},
   "outputs": [],
   "source": [
    "import numpy as np\n",
    "from scipy.optimize import fmin\n",
    "from scipy.optimize import minimize\n",
    "import pdb\n",
    "from numpy.linalg import pinv as inv \n",
    "import numpy as np\n",
    "import matplotlib.pyplot as plt\n",
    "import subprocess"
   ]
  },
  {
   "cell_type": "code",
   "execution_count": 3,
   "metadata": {},
   "outputs": [
    {
     "data": {
      "text/plain": [
       "('', None)"
      ]
     },
     "execution_count": 3,
     "metadata": {},
     "output_type": "execute_result"
    }
   ],
   "source": [
    "    proc = subprocess.Popen(['/bin/bash'], stdin=subprocess.PIPE, stdout=subprocess.PIPE)\n",
    "    proc.communicate('./scripts/getexpert.sh -hmmdir models/htk -labdir original/lab -stream 1 -dimension '+str(1) +' -outdir expts  -filename utt'+str(1))"
   ]
  },
  {
   "cell_type": "code",
   "execution_count": 4,
   "metadata": {},
   "outputs": [],
   "source": [
    "durationFile = \"expts/utt1.dur.expt\""
   ]
  },
  {
   "cell_type": "code",
   "execution_count": 5,
   "metadata": {},
   "outputs": [],
   "source": [
    "def retDur(durationFile):\n",
    "    durations =[]\n",
    "    with open(durationFile, 'r') as f:\n",
    "        lines = f.read().splitlines()\n",
    "        for row in lines:\n",
    "            moment = row.split()\n",
    "            if len(moment)==10:\n",
    "                for i in range(5):\n",
    "                    durations.append(int(round(float(moment[i]))))\n",
    "    return durations"
   ]
  },
  {
   "cell_type": "code",
   "execution_count": 6,
   "metadata": {},
   "outputs": [],
   "source": [
    "def meansAndVar(uttfile, durations):\n",
    "    with open(uttfile, \"r\") as f:\n",
    "        means=[]\n",
    "        var = []\n",
    "        T = sum(durations)\n",
    "        lines = f.read().splitlines()\n",
    "        for line in lines:\n",
    "            expts = line.split()\n",
    "            if len(expts)==6:\n",
    "                means.append(expts[0:3])\n",
    "                var.append(expts[3:6])\n",
    "        \n",
    "    meansFinal = np.zeros(T * 3)\n",
    "    varFinal = np.zeros(T * 3)\n",
    "    \n",
    "    frame = 0\n",
    "    \n",
    "    for i in range(len(durations)):\n",
    "        for t in range(durations[i]):\n",
    "            meansFinal[frame:frame+3] = means[i]\n",
    "            varFinal[frame:frame+3] = var[i]\n",
    "            frame+=3\n",
    "    \n",
    "    varFinal = np.diag(varFinal)\n",
    "    \n",
    "    \n",
    "    \n",
    "    return (meansFinal, varFinal)"
   ]
  },
  {
   "cell_type": "code",
   "execution_count": 7,
   "metadata": {},
   "outputs": [],
   "source": [
    "durations = retDur(durationFile)"
   ]
  },
  {
   "cell_type": "code",
   "execution_count": 8,
   "metadata": {},
   "outputs": [],
   "source": [
    "uttfile = \"expts/utt1.cmp.expt\""
   ]
  },
  {
   "cell_type": "code",
   "execution_count": 9,
   "metadata": {},
   "outputs": [],
   "source": [
    "def meansAndVar(uttfile, durations):\n",
    "    with open(uttfile, \"r\") as f:\n",
    "        means=[]\n",
    "        var = []\n",
    "        T = sum(durations)\n",
    "        lines = f.read().splitlines()\n",
    "        for line in lines:\n",
    "            expts = line.split()\n",
    "            if len(expts)==6:\n",
    "                means.append(expts[0:3])\n",
    "                var.append(expts[3:6])\n",
    "        \n",
    "    meansFinal = np.zeros(T * 3)\n",
    "    varFinal = np.zeros(T * 3)\n",
    "    \n",
    "    frame = 0\n",
    "    \n",
    "    for i in range(len(durations)):\n",
    "        for t in range(durations[i]):\n",
    "            meansFinal[frame:frame+3] = means[i]\n",
    "            varFinal[frame:frame+3] = var[i]\n",
    "            frame+=3\n",
    "    \n",
    "    varFinal = np.diag(varFinal)\n",
    "    \n",
    "    \n",
    "    \n",
    "    return (meansFinal, varFinal)"
   ]
  },
  {
   "cell_type": "code",
   "execution_count": 10,
   "metadata": {},
   "outputs": [],
   "source": [
    "means, var = meansAndVar(uttfile, durations)"
   ]
  },
  {
   "cell_type": "code",
   "execution_count": 11,
   "metadata": {},
   "outputs": [],
   "source": [
    "def weightMate(durations):\n",
    "    T = sum(durations)\n",
    "    window = np.array([[0.0,0.0,1.0,0.0,0.0],[-0.2,-0.1,0.0,0.1,0.2],[0.285714,-0.142857,-0.285714,-0.142857,0.285714]])\n",
    "    \n",
    "    W = np.zeros([3*T,T])  \n",
    "    frame = 0\n",
    "    counter = 0\n",
    "    for i in range(T):\n",
    "        if i==0:\n",
    "            W[frame:frame+3,0:3]= window[:,2:]\n",
    "            \n",
    "        elif i==1:\n",
    "            W[frame:frame+3,0:4]= window[:,1:]\n",
    "        \n",
    "        elif frame>=1533:\n",
    "            W[frame:frame+3, counter:counter+T-i+2] = window[:,:T-i+2]\n",
    "            counter+=1\n",
    "        else:\n",
    "            \n",
    "            W[frame:frame+3, counter:counter+5] = window\n",
    "            counter+=1\n",
    "        frame+=3\n",
    "        \n",
    "        \n",
    "    \n",
    "    return W"
   ]
  },
  {
   "cell_type": "code",
   "execution_count": 12,
   "metadata": {},
   "outputs": [],
   "source": [
    "W = weightMate(durations)"
   ]
  },
  {
   "cell_type": "code",
   "execution_count": 13,
   "metadata": {},
   "outputs": [],
   "source": [
    "def traj(W, means, var):\n",
    "    varinv = np.linalg.pinv(var)\n",
    "    varMaj = np.linalg.pinv(np.dot(np.dot(np.transpose(W),varinv),W))\n",
    "    mu = np.dot(np.dot(np.dot(varMaj, np.transpose(W)),varinv),means)\n",
    "    return mu, varMaj"
   ]
  },
  {
   "cell_type": "code",
   "execution_count": 14,
   "metadata": {},
   "outputs": [],
   "source": [
    "trajmeans, trajvar = traj(W, means, var)"
   ]
  },
  {
   "cell_type": "code",
   "execution_count": 79,
   "metadata": {},
   "outputs": [],
   "source": [
    "gmu=float(gmeans[1])\n",
    "gvar = float(gsig[1])\n",
    "mu = trajmeans\n",
    "P = inv(trajvar)\n",
    "trajvarinv = inv(trajvar)\n",
    "b = np.dot(P,mu)\n",
    "lambda_init = np.random.random()\n",
    "\n",
    "J = np.eye(T) - (1/float(T))*np.ones(T)\n",
    "\n",
    "T = sum(durations)\n",
    "I = np.identity(T)\n",
    "onevec = np.ones(T)"
   ]
  },
  {
   "cell_type": "code",
   "execution_count": 55,
   "metadata": {},
   "outputs": [],
   "source": [
    "gvarmean = subprocess.check_output(['./bin/x2x', '+da', 'models/hts/gv-mcep.pdf'])\n",
    "gvarmean= gvarmean.split()\n",
    "\n",
    "gmeans = gvarmean[0:60]\n",
    "gsig = gvarmean[60:120]"
   ]
  },
  {
   "cell_type": "code",
   "execution_count": 56,
   "metadata": {},
   "outputs": [
    {
     "data": {
      "text/plain": [
       "0.970492"
      ]
     },
     "execution_count": 56,
     "metadata": {},
     "output_type": "execute_result"
    }
   ],
   "source": [
    "gmu"
   ]
  },
  {
   "cell_type": "code",
   "execution_count": 57,
   "metadata": {},
   "outputs": [
    {
     "data": {
      "text/plain": [
       "('', None)"
      ]
     },
     "execution_count": 57,
     "metadata": {},
     "output_type": "execute_result"
    }
   ],
   "source": [
    "        proc = subprocess.Popen(['/bin/bash'], stdin=subprocess.PIPE, stdout=subprocess.PIPE)\n",
    "        proc.communicate('./scripts/getexpert.sh -hmmdir models/htk -labdir original/lab -stream 1 -dimension '+str(1)+' -outdir expts  -filename utt'+str(1))\n",
    "\n"
   ]
  },
  {
   "cell_type": "code",
   "execution_count": 80,
   "metadata": {},
   "outputs": [],
   "source": [
    "def trajfunction(lambda_):\n",
    "    \n",
    "    alpha = 3*T\n",
    "    x = cGen(lambda_)\n",
    "    mat= inv(P-lambda_*I)\n",
    "    \n",
    "    orig = (1/2)*np.dot(np.dot(np.transpose(x - trajmeans),trajvarinv), (x-trajmeans))\n",
    "    #globvar = (alpha/2) *(x.var()-gmu )**2/gvar\n",
    "    v =  lambda_ * np.dot( np.dot(np.transpose(b), mat), onevec)/ (T + lambda_ *np.dot(np.transpose(onevec), np.dot(mat, onevec)))\n",
    "    globvar = (alpha/2) *(x.var()-gmu )**2/gvar\n",
    "\n",
    "    print (orig+globvar)\n",
    "    return (orig+globvar)"
   ]
  },
  {
   "cell_type": "code",
   "execution_count": 81,
   "metadata": {},
   "outputs": [],
   "source": [
    "import subprocess\n"
   ]
  },
  {
   "cell_type": "code",
   "execution_count": 82,
   "metadata": {},
   "outputs": [],
   "source": [
    "def cGen(lambda_):\n",
    "    \n",
    "    mat= inv(P-lambda_*I)\n",
    "    \n",
    "    v = lambda_ * np.dot( np.dot(np.transpose(b), mat), onevec)/ (T + lambda_ *np.dot(np.transpose(onevec), np.dot(mat, onevec)))\n",
    "\n",
    "    c = np.dot(mat, b - v* onevec)\n",
    "    return c"
   ]
  },
  {
   "cell_type": "code",
   "execution_count": null,
   "metadata": {},
   "outputs": [
    {
     "name": "stdout",
     "output_type": "stream",
     "text": [
      "90979.40419179751\n",
      "90979.40660759511\n",
      "90979.40419179751\n",
      "19828.561302336442\n",
      "19828.561302336442\n",
      "19828.561710744983\n",
      "14939.749975501963\n",
      "14939.749975501963\n",
      "14939.750281754108\n",
      "7660.8436537035095\n",
      "7660.8436537035095\n",
      "7660.843815552728\n",
      "3442.7549072954807\n",
      "3442.7549072954807\n",
      "3442.7549881445298\n",
      "1356.477153725488\n",
      "1356.477153725488\n",
      "1356.4771929066371\n",
      "426.6288473749029\n",
      "426.6288473749029\n"
     ]
    }
   ],
   "source": [
    "minimum = minimize(trajfunction, lambda_init, tol= 10e-6)"
   ]
  },
  {
   "cell_type": "code",
   "execution_count": 62,
   "metadata": {},
   "outputs": [],
   "source": [
    "lambda_ = lambda_init"
   ]
  },
  {
   "cell_type": "code",
   "execution_count": 63,
   "metadata": {},
   "outputs": [
    {
     "ename": "NameError",
     "evalue": "name 'mat' is not defined",
     "output_type": "error",
     "traceback": [
      "\u001b[0;31m---------------------------------------\u001b[0m",
      "\u001b[0;31mNameError\u001b[0mTraceback (most recent call last)",
      "\u001b[0;32m<ipython-input-63-48d0e2a67422>\u001b[0m in \u001b[0;36m<module>\u001b[0;34m()\u001b[0m\n\u001b[0;32m----> 1\u001b[0;31m \u001b[0mmat\u001b[0m\u001b[0;34m.\u001b[0m\u001b[0mshape\u001b[0m\u001b[0;34m\u001b[0m\u001b[0m\n\u001b[0m",
      "\u001b[0;31mNameError\u001b[0m: name 'mat' is not defined"
     ]
    }
   ],
   "source": [
    "mat.shape"
   ]
  },
  {
   "cell_type": "code",
   "execution_count": null,
   "metadata": {},
   "outputs": [],
   "source": [
    "f = lambda L: -((-1/2)*np.dot(np.dot(np.transpose(np.linalg.solve((P-L*J),b)),P),np.linalg.solve((P-L*J),b)) + np.dot(np.transpose(b),np.linalg.solve((P-L*J),b)) - (alpha/(2*gv_var[3]))*((np.var(np.linalg.solve((P-L*J),b))-gv_mean[3])**2))\n",
    "opt = scipy.optimize.minimize_scalar(f, tol=1e-9)\n"
   ]
  },
  {
   "cell_type": "code",
   "execution_count": 77,
   "metadata": {},
   "outputs": [],
   "source": []
  },
  {
   "cell_type": "code",
   "execution_count": 78,
   "metadata": {},
   "outputs": [
    {
     "data": {
      "text/plain": [
       "array([[ 0.99805068, -0.00194932, -0.00194932, ..., -0.00194932,\n",
       "        -0.00194932, -0.00194932],\n",
       "       [-0.00194932,  0.99805068, -0.00194932, ..., -0.00194932,\n",
       "        -0.00194932, -0.00194932],\n",
       "       [-0.00194932, -0.00194932,  0.99805068, ..., -0.00194932,\n",
       "        -0.00194932, -0.00194932],\n",
       "       ...,\n",
       "       [-0.00194932, -0.00194932, -0.00194932, ...,  0.99805068,\n",
       "        -0.00194932, -0.00194932],\n",
       "       [-0.00194932, -0.00194932, -0.00194932, ..., -0.00194932,\n",
       "         0.99805068, -0.00194932],\n",
       "       [-0.00194932, -0.00194932, -0.00194932, ..., -0.00194932,\n",
       "        -0.00194932,  0.99805068]])"
      ]
     },
     "execution_count": 78,
     "metadata": {},
     "output_type": "execute_result"
    }
   ],
   "source": [
    "J"
   ]
  },
  {
   "cell_type": "code",
   "execution_count": 64,
   "metadata": {},
   "outputs": [],
   "source": [
    "lambda_opt = minimum.x[0]"
   ]
  },
  {
   "cell_type": "code",
   "execution_count": 65,
   "metadata": {},
   "outputs": [
    {
     "data": {
      "text/plain": [
       "-3.97862815164628e-09"
      ]
     },
     "execution_count": 65,
     "metadata": {},
     "output_type": "execute_result"
    }
   ],
   "source": [
    "lambda_opt"
   ]
  },
  {
   "cell_type": "code",
   "execution_count": 66,
   "metadata": {},
   "outputs": [],
   "source": [
    "trajopt = cGen(lambda_opt)"
   ]
  },
  {
   "cell_type": "code",
   "execution_count": null,
   "metadata": {},
   "outputs": [],
   "source": []
  },
  {
   "cell_type": "code",
   "execution_count": 67,
   "metadata": {},
   "outputs": [
    {
     "data": {
      "image/png": "[encoded data removed]",
      "text/plain": [
       "<matplotlib.figure.Figure at 0x7ff31c6fffd0>"
      ]
     },
     "metadata": {},
     "output_type": "display_data"
    }
   ],
   "source": [
    "plt.plot(trajopt)\n",
    "plt.plot(trajmeans)\n",
    "plt.show()"
   ]
  },
  {
   "cell_type": "code",
   "execution_count": 27,
   "metadata": {},
   "outputs": [],
   "source": [
    "with open(\"trajCustom/dim1/gvconstrain.txt\", \"w+\") as f:\n",
    "    f.write(str(trajopt))"
   ]
  },
  {
   "cell_type": "code",
   "execution_count": 63,
   "metadata": {},
   "outputs": [
    {
     "data": {
      "text/plain": [
       "array([0.02512384, 0.2972832 , 0.9103574 , 0.87480176, 0.98382406,\n",
       "       0.99288134, 0.98812965, 1.02107607, 1.01572598, 1.02312411,\n",
       "       1.03009438, 1.02884308, 1.0329033 , 1.03381815, 1.03416436,\n",
       "       1.03546361, 1.03543194, 1.03571242, 1.03589894, 1.03551565,\n",
       "       1.03549415, 1.03491768, 1.03383424, 1.03364062, 1.03088864,\n",
       "       1.02912372, 1.02781855, 1.01828249, 1.01896303, 1.00747946,\n",
       "       0.98480404, 0.99741407, 0.93302717, 0.91596247, 0.92638162,\n",
       "       0.67085347, 0.68744284, 0.54229553, 0.56225039, 0.61665716,\n",
       "       0.55043078, 0.90235653, 0.91362897, 0.92364917, 1.08760958,\n",
       "       1.07463009, 0.92995598, 0.91771864, 0.66316666, 0.65269015,\n",
       "       0.57322904, 0.55283776, 0.94402438, 1.53826783, 3.26580039,\n",
       "       4.03624835, 4.79506117, 4.83365586, 4.77251914, 4.80400716,\n",
       "       4.75754691, 4.66689241, 4.91794947, 5.06950405, 5.19784987,\n",
       "       5.7240111 , 6.06072378, 6.05766508, 6.19859004, 6.17298263,\n",
       "       6.19844502, 6.26781443, 6.18907526, 6.26060482, 6.21954518,\n",
       "       6.13992656, 6.16644581, 6.02938587, 5.99292566, 5.92277794,\n",
       "       5.70248864, 5.65061103, 5.23732948, 4.98797103, 3.61910754,\n",
       "       3.01258549, 2.54892685, 1.3647969 , 1.29653218, 1.21537353,\n",
       "       0.60269246, 0.90769281, 0.47562828, 0.41828134, 2.83861884,\n",
       "       2.93155131, 3.04370486, 3.56480108, 2.96404539, 3.36056885,\n",
       "       3.34687568, 3.64893563, 4.48366722, 4.45573578, 4.89525958,\n",
       "       5.17504937, 5.70286698, 6.29029812, 6.42009242, 6.46256938,\n",
       "       6.51438247, 6.46419619, 6.39839012, 6.31245322, 6.25312148,\n",
       "       6.22233213, 6.12149494, 6.08207643, 6.01228968, 5.92334012,\n",
       "       5.88181883, 5.92580519, 5.89305631, 5.9605145 , 6.04422969,\n",
       "       6.0789273 , 6.25845149, 6.38338104, 6.58054197, 6.82061102,\n",
       "       6.91882445, 7.05172283, 7.18676041, 7.19543859, 7.27186801,\n",
       "       7.2674973 , 7.26248469, 7.29467989, 7.24624799, 7.25655272,\n",
       "       7.23045029, 7.16281435, 7.14009339, 6.99923956, 6.90789689,\n",
       "       6.7745482 , 6.56557482, 6.35846802, 6.15396903, 5.76142574,\n",
       "       5.47643415, 4.30699593, 3.76554299, 3.33142206, 2.25441737,\n",
       "       2.29594111, 2.96374221, 2.71476011, 3.71654918, 3.83794572,\n",
       "       4.36533645, 4.52958215, 4.57517941, 4.86767675, 4.88322374,\n",
       "       4.94559352, 5.18238072, 5.05302427, 5.10170855, 4.97771249,\n",
       "       4.54513914, 4.30439671, 3.51494072, 3.2348748 , 2.06512685,\n",
       "       1.65164084, 1.33914256, 1.23277147, 1.03052931, 1.86640896,\n",
       "       3.28923556, 3.92304663, 5.38337478, 5.46965297, 5.60742309,\n",
       "       5.72477053, 5.34535525, 5.37215033, 5.50423756, 5.36619591,\n",
       "       5.67785396, 5.60173216, 5.87634854, 6.49664024, 6.52622474,\n",
       "       6.94886233, 6.98493765, 6.99748886, 7.0198612 , 7.02364048,\n",
       "       7.03196649, 7.04483269, 7.04613388, 7.05717893, 7.06653432,\n",
       "       7.06761435, 7.0813372 , 7.08235521, 7.07658609, 7.07110996,\n",
       "       7.05368781, 7.03409602, 7.02444603, 6.9997366 , 6.95968282,\n",
       "       6.92711775, 6.84670744, 6.78560342, 6.72140537, 6.61974793,\n",
       "       6.53200776, 6.41043434, 6.16850898, 6.02510335, 5.71097998,\n",
       "       5.41562927, 3.85699957, 3.44913356, 2.43673421, 1.60391934,\n",
       "       2.11263098, 3.46354795, 3.79243723, 4.78856302, 5.00588657,\n",
       "       4.79548295, 5.27638407, 5.12394834, 4.84545005, 5.13522334,\n",
       "       4.94048567, 5.06093786, 5.77025273, 5.81313234, 6.08918293,\n",
       "       6.09446702, 6.02477346, 6.03083306, 5.86457134, 5.72750733,\n",
       "       5.48942121, 5.24339595, 5.26156601, 5.06217013, 5.09110272,\n",
       "       4.97184821, 4.82358065, 4.8360373 , 4.62218254, 4.52199524,\n",
       "       4.32935938, 4.45113184, 4.82610304, 4.58050961, 4.27301558,\n",
       "       4.61556098, 4.77345902, 4.84126994, 5.48362822, 6.13987422,\n",
       "       6.21216388, 6.2783076 , 6.22158393, 6.17464527, 5.99811287,\n",
       "       5.80029038, 5.68422152, 5.52473595, 5.35525047, 5.24351168,\n",
       "       5.05440108, 4.93616218, 4.91042468, 4.80905073, 4.84261092,\n",
       "       4.86182579, 4.90614076, 5.06378213, 5.20349719, 5.39062538,\n",
       "       5.55989151, 5.69352486, 5.90412101, 5.98458835, 6.1338879 ,\n",
       "       6.26830266, 6.29702607, 6.45047854, 6.46981714, 6.50988937,\n",
       "       6.5520835 , 6.51863122, 6.55534038, 6.5357284 , 6.4982718 ,\n",
       "       6.51801345, 6.43167038, 6.39375665, 6.32520036, 6.10945868,\n",
       "       6.01745924, 5.55341805, 5.27985925, 4.20172407, 3.67267716,\n",
       "       3.25680585, 2.26256307, 2.26730768, 2.95337025, 2.71449785,\n",
       "       3.71069217, 3.83620926, 4.3648035 , 4.52680139, 4.57559263,\n",
       "       4.86760602, 4.8812689 , 4.94826963, 5.18135517, 5.05249042,\n",
       "       5.10712586, 4.97203016, 4.5516229 , 4.31153957, 3.49094047,\n",
       "       3.27376982, 2.03332247, 1.63335528, 1.47201602, 0.95178724,\n",
       "       0.95569691, 0.7442067 , 0.88685267, 1.73917803, 2.79244271,\n",
       "       3.92767774, 5.15364862, 5.22882856, 5.30745616, 5.33268678,\n",
       "       5.34744997, 5.27252807, 5.54820334, 5.99586986, 6.47223133,\n",
       "       6.5308553 , 6.62086272, 6.65034985, 6.64496276, 6.66841098,\n",
       "       6.61991225, 6.60969075, 6.57433498, 6.48928254, 6.44145158,\n",
       "       6.27620887, 6.13119082, 5.95240104, 5.76879179, 5.54466223,\n",
       "       5.49359884, 5.35919603, 5.29078128, 5.2233466 , 5.10432878,\n",
       "       5.05789858, 4.95424932, 4.85469129, 4.80722022, 4.73415956,\n",
       "       4.63707542, 4.56204966, 4.4933809 , 4.57218505, 4.63059605,\n",
       "       4.63332101, 4.73011761, 4.74235885, 4.75631084, 4.81136427,\n",
       "       4.80598422, 4.81752318, 4.88130369, 4.8184717 , 4.86152491,\n",
       "       4.79314936, 4.33376489, 3.46145757, 3.31807944, 2.57166465,\n",
       "       2.14508745, 1.78908138, 2.17217569, 3.20005151, 3.61375505,\n",
       "       4.92284633, 4.87820611, 4.68840714, 4.58987888, 4.89797781,\n",
       "       5.3767467 , 5.69197353, 5.70279585, 5.67877328, 5.67619522,\n",
       "       5.60119309, 5.53446519, 5.43740861, 5.29145013, 5.14795256,\n",
       "       4.95815744, 4.75168013, 4.71646651, 4.58282861, 4.54148367,\n",
       "       4.48336498, 4.38360916, 4.36138193, 4.27442787, 4.20618558,\n",
       "       4.17235173, 4.04925908, 4.00479634, 3.91506304, 3.79382755,\n",
       "       3.73677857, 3.24392411, 2.68496505, 2.14754076, 2.11347495,\n",
       "       1.24402336, 1.07330521, 1.09992913, 0.91627321, 0.58248653,\n",
       "       0.65658703, 0.60573446, 0.96081008, 2.49138498, 2.84457322,\n",
       "       3.86328159, 4.51921879, 4.31628504, 4.1318348 , 3.99199686,\n",
       "       3.73819071, 3.61774523, 3.4195573 , 3.15407342, 3.07857222,\n",
       "       2.70544916, 2.63609317, 2.57016714, 2.38168391, 2.35466243,\n",
       "       2.22415207, 2.07723943, 2.06005638, 1.78868612, 1.76950766,\n",
       "       1.71546226, 1.63424105, 1.62236036, 1.57960275, 1.5501305 ,\n",
       "       1.51379758, 1.49431365, 1.43729055, 1.37634719, 1.36636087,\n",
       "       1.16745017, 1.13611213, 1.09245133, 1.04636846, 1.04693854,\n",
       "       1.03042513, 1.02069713, 1.01883672, 1.011732  , 1.00966565,\n",
       "       1.00775535, 1.00540748, 1.0047317 , 1.00374168, 1.00289836,\n",
       "       1.00266001, 1.00220597, 1.00151233, 1.00200147, 1.00090155,\n",
       "       1.00041689, 1.00218577, 0.99729247, 1.00100548, 1.00084037,\n",
       "       0.98758661, 1.01030959, 0.98306307, 0.97654693, 1.03834072,\n",
       "       0.89686023, 1.03713534, 1.0980463 ])"
      ]
     },
     "execution_count": 63,
     "metadata": {},
     "output_type": "execute_result"
    }
   ],
   "source": [
    "trajopt"
   ]
  },
  {
   "cell_type": "code",
   "execution_count": null,
   "metadata": {},
   "outputs": [],
   "source": []
  }
 ],
 "metadata": {
  "kernelspec": {
   "display_name": "Python 2",
   "language": "python",
   "name": "python2"
  },
  "language_info": {
   "codemirror_mode": {
    "name": "ipython",
    "version": 2
   },
   "file_extension": ".py",
   "mimetype": "text/x-python",
   "name": "python",
   "nbconvert_exporter": "python",
   "pygments_lexer": "ipython2",
   "version": "2.7.12"
  }
 },
 "nbformat": 4,
 "nbformat_minor": 2
}

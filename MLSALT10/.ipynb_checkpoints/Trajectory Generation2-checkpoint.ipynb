{
 "cells": [
  {
   "cell_type": "code",
   "execution_count": 1,
   "metadata": {},
   "outputs": [],
   "source": [
    "import numpy as np\n",
    "from scipy.optimize import fmin\n",
    "from scipy.optimize import minimize\n",
    "import pdb\n",
    "from numpy.linalg import pinv as inv \n",
    "import numpy as np\n",
    "import matplotlib.pyplot as plt\n",
    "import subprocess"
   ]
  },
  {
   "cell_type": "code",
   "execution_count": 2,
   "metadata": {},
   "outputs": [
    {
     "name": "stdout",
     "output_type": "stream",
     "text": [
      "[1, 2, 3, 4, 5, 6, 7, 8, 9, 10, 11, 12, 13, 14, 15, 16, 17, 18, 19, 20, 21, 22, 23, 24, 25, 26, 27, 28, 29, 30, 31, 32, 33, 34, 35, 36, 37, 38, 39, 40, 41, 42, 43, 44, 45, 46, 47, 48, 49, 50, 51, 52, 53, 54, 55, 56, 57, 58, 59, 60]\n"
     ]
    }
   ],
   "source": [
    "job_list = range(1, 61)\n",
    "print job_list"
   ]
  },
  {
   "cell_type": "code",
   "execution_count": 88,
   "metadata": {},
   "outputs": [
    {
     "data": {
      "text/plain": [
       "('', None)"
      ]
     },
     "execution_count": 88,
     "metadata": {},
     "output_type": "execute_result"
    }
   ],
   "source": [
    "        proc = subprocess.Popen(['/bin/bash'], stdin=subprocess.PIPE, stdout=subprocess.PIPE)\n",
    "        proc.communicate('./scripts/getexpert.sh -hmmdir models/htk -labdir original/lab -stream 1 -dimension '+str(3) +' -outdir expts  -filename utt'+str(1))"
   ]
  },
  {
   "cell_type": "code",
   "execution_count": 89,
   "metadata": {},
   "outputs": [],
   "source": [
    "durationFile = \"expts/utt1.dur.expt\""
   ]
  },
  {
   "cell_type": "code",
   "execution_count": 90,
   "metadata": {},
   "outputs": [],
   "source": [
    "def retDur(durationFile):\n",
    "    durations =[]\n",
    "    with open(durationFile, 'r') as f:\n",
    "        lines = f.read().splitlines()\n",
    "        for row in lines:\n",
    "            moment = row.split()\n",
    "            if len(moment)==10:\n",
    "                for i in range(5):\n",
    "                    durations.append(int(round(float(moment[i]))))\n",
    "    return durations"
   ]
  },
  {
   "cell_type": "code",
   "execution_count": 91,
   "metadata": {},
   "outputs": [],
   "source": [
    "def meansAndVar(uttfile, durations):\n",
    "    with open(uttfile, \"r\") as f:\n",
    "        means=[]\n",
    "        var = []\n",
    "        T = sum(durations)\n",
    "        lines = f.read().splitlines()\n",
    "        for line in lines:\n",
    "            expts = line.split()\n",
    "            if len(expts)==6:\n",
    "                means.append(expts[0:3])\n",
    "                var.append(expts[3:6])\n",
    "        \n",
    "    meansFinal = np.zeros(T * 3)\n",
    "    varFinal = np.zeros(T * 3)\n",
    "    \n",
    "    frame = 0\n",
    "    \n",
    "    for i in range(len(durations)):\n",
    "        for t in range(durations[i]):\n",
    "            meansFinal[frame:frame+3] = means[i]\n",
    "            varFinal[frame:frame+3] = var[i]\n",
    "            frame+=3\n",
    "    \n",
    "    varFinal = np.diag(varFinal)\n",
    "    \n",
    "    \n",
    "    \n",
    "    return (meansFinal, varFinal)"
   ]
  },
  {
   "cell_type": "code",
   "execution_count": 92,
   "metadata": {},
   "outputs": [],
   "source": [
    "durations = retDur(durationFile)"
   ]
  },
  {
   "cell_type": "code",
   "execution_count": 93,
   "metadata": {},
   "outputs": [],
   "source": [
    "uttfile = \"expts/utt1.cmp.expt\""
   ]
  },
  {
   "cell_type": "code",
   "execution_count": 94,
   "metadata": {},
   "outputs": [],
   "source": [
    "def meansAndVar(uttfile, durations):\n",
    "    with open(uttfile, \"r\") as f:\n",
    "        means=[]\n",
    "        var = []\n",
    "        T = sum(durations)\n",
    "        lines = f.read().splitlines()\n",
    "        for line in lines:\n",
    "            expts = line.split()\n",
    "            if len(expts)==6:\n",
    "                means.append(expts[0:3])\n",
    "                var.append(expts[3:6])\n",
    "        \n",
    "    meansFinal = np.zeros(T * 3)\n",
    "    varFinal = np.zeros(T * 3)\n",
    "    \n",
    "    frame = 0\n",
    "    \n",
    "    for i in range(len(durations)):\n",
    "        for t in range(durations[i]):\n",
    "            meansFinal[frame:frame+3] = means[i]\n",
    "            varFinal[frame:frame+3] = var[i]\n",
    "            frame+=3\n",
    "    \n",
    "    varFinal = np.diag(varFinal)\n",
    "    \n",
    "    \n",
    "    \n",
    "    return (meansFinal, varFinal)"
   ]
  },
  {
   "cell_type": "code",
   "execution_count": 95,
   "metadata": {},
   "outputs": [],
   "source": [
    "means, var = meansAndVar(uttfile, durations)"
   ]
  },
  {
   "cell_type": "code",
   "execution_count": 96,
   "metadata": {},
   "outputs": [],
   "source": [
    "def weightMate(durations):\n",
    "    T = sum(durations)\n",
    "    window = np.array([[0.0,0.0,1.0,0.0,0.0],[-0.2,-0.1,0.0,0.1,0.2],[0.285714,-0.142857,-0.285714,-0.142857,0.285714]])\n",
    "    \n",
    "    W = np.zeros([3*T,T])  \n",
    "    frame = 0\n",
    "    counter = 0\n",
    "    for i in range(T):\n",
    "        if i==0:\n",
    "            W[frame:frame+3,0:3]= window[:,2:]\n",
    "            \n",
    "        elif i==1:\n",
    "            W[frame:frame+3,0:4]= window[:,1:]\n",
    "        \n",
    "        elif frame>=1533:\n",
    "            W[frame:frame+3, counter:counter+T-i+2] = window[:,:T-i+2]\n",
    "            counter+=1\n",
    "        else:\n",
    "            \n",
    "            W[frame:frame+3, counter:counter+5] = window\n",
    "            counter+=1\n",
    "        frame+=3\n",
    "        \n",
    "        \n",
    "    \n",
    "    return W"
   ]
  },
  {
   "cell_type": "code",
   "execution_count": 97,
   "metadata": {},
   "outputs": [],
   "source": [
    "W = weightMate(durations)"
   ]
  },
  {
   "cell_type": "code",
   "execution_count": 98,
   "metadata": {},
   "outputs": [],
   "source": [
    "def traj(W, means, var):\n",
    "    varinv = np.linalg.pinv(var)\n",
    "    varMaj = np.linalg.pinv(np.dot(np.dot(np.transpose(W),varinv),W))\n",
    "    mu = np.dot(np.dot(np.dot(varMaj, np.transpose(W)),varinv),means)\n",
    "    return mu, varMaj"
   ]
  },
  {
   "cell_type": "code",
   "execution_count": 99,
   "metadata": {},
   "outputs": [],
   "source": [
    "trajmeans, trajvar = traj(W, means, var)"
   ]
  },
  {
   "cell_type": "code",
   "execution_count": 100,
   "metadata": {},
   "outputs": [
    {
     "data": {
      "text/plain": [
       "array([ 0.44456414,  0.47071283,  0.7427697 ,  0.77226542,  0.77102389,\n",
       "        0.81199962,  0.78725281,  0.79909808,  0.80322373,  0.79615804,\n",
       "        0.80330249,  0.801051  ,  0.8009742 ,  0.80296812,  0.80161254,\n",
       "        0.80246457,  0.80259312,  0.80229064,  0.80271222,  0.80253746,\n",
       "        0.8025949 ,  0.80266297,  0.80253396,  0.80266342,  0.8024695 ,\n",
       "        0.80248277,  0.80254277,  0.80197363,  0.80247839,  0.8018073 ,\n",
       "        0.80109759,  0.80250991,  0.79905234,  0.80048642,  0.80010919,\n",
       "        0.78819347,  0.78283004,  0.76473799,  0.75660161,  0.74065454,\n",
       "        0.73599751,  0.71296329,  0.69969948,  0.6959311 ,  0.67218955,\n",
       "        0.66629755,  0.69400583,  0.68393254,  0.70665093,  0.74189869,\n",
       "        0.63364094,  0.65930592,  0.42799616,  0.01509532, -0.21885798,\n",
       "       -0.11765746,  0.12666546,  0.22271424,  0.42987573,  0.56372341,\n",
       "        0.67687088,  1.03544865,  1.03374923,  1.08171222,  1.02825232,\n",
       "        0.80961486,  0.65144674,  0.64805519,  0.53277949,  0.54832569,\n",
       "        0.50116031,  0.44714341,  0.46990974,  0.39664707,  0.4040354 ,\n",
       "        0.39641151,  0.35520444,  0.38512068,  0.34783234,  0.34742926,\n",
       "        0.41945072,  0.40204996,  0.52227676,  0.58800705,  0.67849273,\n",
       "        0.81894698,  0.85102033,  0.90466272,  0.93693275,  0.82006153,\n",
       "        0.87664467,  0.81519505,  0.59731514,  0.60280555,  0.08796673,\n",
       "        0.06871611,  0.20202595,  0.08193358,  0.31279743,  0.25619395,\n",
       "        0.25708086,  0.32882959,  0.12991551,  0.3358734 ,  0.23012778,\n",
       "        0.14022526, -0.12910427, -0.38888579, -0.52369575, -0.58845027,\n",
       "       -0.63793092, -0.65899928, -0.62963493, -0.56985899, -0.55044896,\n",
       "       -0.52704672, -0.48878092, -0.47553652, -0.44575959, -0.4263879 ,\n",
       "       -0.41878231, -0.46113989, -0.46752121, -0.49420662, -0.53401308,\n",
       "       -0.55071949, -0.60311737, -0.67011729, -0.80994128, -0.97047168,\n",
       "       -1.03888983, -1.13855245, -1.2186525 , -1.24066701, -1.29038071,\n",
       "       -1.2930668 , -1.30706631, -1.32660609, -1.31334875, -1.33077308,\n",
       "       -1.32058627, -1.30332123, -1.29661787, -1.22983088, -1.19697159,\n",
       "       -1.12726082, -1.03000796, -0.9082996 , -0.80203504, -0.57963716,\n",
       "       -0.40908435, -0.13021583,  0.15918383,  0.29648947,  0.57480643,\n",
       "        0.60616111,  0.50890744,  0.57153506,  0.4934805 ,  0.47916683,\n",
       "        0.41520418,  0.3888544 ,  0.36677744,  0.33147059,  0.30859048,\n",
       "        0.29772953,  0.25666337,  0.24611811,  0.2578211 ,  0.25714573,\n",
       "        0.32822078,  0.36184076,  0.36521203,  0.45308506,  0.55278699,\n",
       "        0.61826969,  0.66149889,  0.56758585,  0.51320152,  0.43511514,\n",
       "        0.12547154,  0.10087236,  0.35496585,  0.28831638,  0.32873518,\n",
       "        0.35955886,  0.11156168,  0.06774428, -0.11066771, -0.22437661,\n",
       "       -0.36209743, -0.46792866, -0.62232839, -0.84583165, -0.8922354 ,\n",
       "       -1.1083345 , -1.15346327, -1.20172856, -1.23221722, -1.25022592,\n",
       "       -1.27565255, -1.28984991, -1.30578535, -1.32029285, -1.33504478,\n",
       "       -1.34441688, -1.35640124, -1.36541887, -1.35606871, -1.35009237,\n",
       "       -1.32923681, -1.29878745, -1.28136902, -1.23778473, -1.18328811,\n",
       "       -1.13267068, -1.05342618, -0.990388  , -0.91846966, -0.8320052 ,\n",
       "       -0.75597461, -0.65528294, -0.48600429, -0.39289442, -0.14418194,\n",
       "        0.03303109,  0.35142935,  0.55868576,  0.67232454,  0.78745456,\n",
       "        0.70242167,  0.38096064,  0.3593496 ,  0.52007065,  0.4750519 ,\n",
       "        0.51410998,  0.5179613 ,  0.47537646,  0.51640616,  0.37371088,\n",
       "        0.37269251,  0.23867435, -0.1392331 , -0.19740772, -0.4447049 ,\n",
       "       -0.50679416, -0.46735619, -0.52669507, -0.43284801, -0.36488681,\n",
       "       -0.21343746, -0.03738461, -0.07188392,  0.0505982 ,  0.04188635,\n",
       "        0.08751547,  0.20028116,  0.18317042,  0.35158358,  0.46288794,\n",
       "        0.37886222,  0.27644921,  0.26638153,  0.2884273 ,  0.30461979,\n",
       "        0.19565118,  0.22101077,  0.23388769, -0.00137394, -0.3592182 ,\n",
       "       -0.4246178 , -0.52516107, -0.57501701, -0.55490905, -0.56113928,\n",
       "       -0.45323519, -0.42286295, -0.33452843, -0.23606735, -0.17832482,\n",
       "       -0.03795889,  0.03923131,  0.05487423,  0.12935922,  0.11453826,\n",
       "        0.10635411,  0.07999222, -0.01720992, -0.06795883, -0.17276605,\n",
       "       -0.27308005, -0.34729393, -0.48973935, -0.52300872, -0.61659327,\n",
       "       -0.70072298, -0.69949653, -0.80567616, -0.81031059, -0.83001756,\n",
       "       -0.85008941, -0.83075006, -0.85074832, -0.8412063 , -0.82411482,\n",
       "       -0.83887219, -0.79852483, -0.78594958, -0.75907809, -0.63815007,\n",
       "       -0.59961415, -0.32797212, -0.18655173,  0.00164397,  0.25738823,\n",
       "        0.3419316 ,  0.57388043,  0.61071034,  0.51178238,  0.56803185,\n",
       "        0.49452931,  0.4790271 ,  0.41368948,  0.38994487,  0.36538175,\n",
       "        0.33019572,  0.30985136,  0.29359117,  0.25707764,  0.24543521,\n",
       "        0.2496185 ,  0.26252794,  0.31491273,  0.35315115,  0.3727245 ,\n",
       "        0.41450321,  0.56755209,  0.60454989,  0.62250654,  0.70914908,\n",
       "        0.57584179,  0.58180253,  0.34064865, -0.20948485, -0.51879556,\n",
       "       -0.4920991 , -0.44457938, -0.36801487, -0.36276544, -0.31169457,\n",
       "       -0.3927453 , -0.34464458, -0.44098056, -0.50661364, -0.72373503,\n",
       "       -0.77898861, -0.85193795, -0.88748832, -0.88300543, -0.90374526,\n",
       "       -0.87649283, -0.87826529, -0.86828665, -0.82757359, -0.81907595,\n",
       "       -0.73062392, -0.66425707, -0.57211996, -0.39916464, -0.27702503,\n",
       "       -0.23325907, -0.15363223, -0.11815485, -0.06543363, -0.00839897,\n",
       "        0.04084968,  0.10038431,  0.2135638 ,  0.30162977,  0.43585593,\n",
       "        0.55481991,  0.64857205,  0.79989629,  0.90601705,  0.95620358,\n",
       "        0.96074294,  0.89889391,  0.87842147,  0.88985312,  0.84787237,\n",
       "        0.85824182,  0.86974583,  0.82006592,  0.88845434,  0.87198872,\n",
       "        0.88535002,  1.09432496,  1.12107695,  1.1197901 ,  1.20439254,\n",
       "        0.9816801 ,  0.93016695,  0.74738824,  0.35744709,  0.30838623,\n",
       "        0.42685888,  0.41104911,  0.40204867,  0.39727653,  0.07242014,\n",
       "       -0.18236082, -0.4751232 , -0.50287512, -0.5457444 , -0.56811986,\n",
       "       -0.52978315, -0.52350238, -0.4550083 , -0.36837004, -0.29002096,\n",
       "       -0.14050664, -0.02116519, -0.01269338,  0.05926354,  0.06539377,\n",
       "        0.09524108,  0.14387559,  0.14963881,  0.19550873,  0.23458539,\n",
       "        0.24994202,  0.31818818,  0.3417889 ,  0.38667677,  0.45622795,\n",
       "        0.48116998,  0.63602869,  0.76757029,  0.87878114,  0.86692079,\n",
       "        0.85782356,  0.8243767 ,  0.81352421,  0.75019088,  0.73788815,\n",
       "        0.72032806,  0.42098591,  0.39664237,  0.16553079,  0.15273117,\n",
       "        0.16643054,  0.14242792,  0.10478791, -0.05188237, -0.07317904,\n",
       "       -0.10804663, -0.17815964, -0.15851071, -0.22793489, -0.22770098,\n",
       "       -0.18866352, -0.17865372, -0.11729582, -0.07672759, -0.05019694,\n",
       "        0.01421103,  0.06113199,  0.09478725,  0.19996807,  0.22188194,\n",
       "        0.26099319,  0.3064052 ,  0.32121394,  0.36000179,  0.38029482,\n",
       "        0.41248481,  0.44149596,  0.46972358,  0.5236016 ,  0.54378275,\n",
       "        0.61367353,  0.65694787,  0.67288305,  0.72431719,  0.72394594,\n",
       "        0.73259916,  0.7464237 ,  0.74436276,  0.75150144,  0.75394523,\n",
       "        0.75435635,  0.75743696,  0.75741793,  0.75837222,  0.75908146,\n",
       "        0.7587309 ,  0.7595504 ,  0.75867409,  0.75861509,  0.75892047,\n",
       "        0.75577388,  0.757757  ,  0.75432427,  0.74938638,  0.75571197,\n",
       "        0.73772748,  0.74159378,  0.7429423 ,  0.69444828,  0.74059292,\n",
       "        0.67150608,  0.60434704,  0.65335483])"
      ]
     },
     "execution_count": 100,
     "metadata": {},
     "output_type": "execute_result"
    }
   ],
   "source": [
    "trajmeans"
   ]
  },
  {
   "cell_type": "code",
   "execution_count": 107,
   "metadata": {},
   "outputs": [],
   "source": [
    "gmu=float(gmeans[2])\n",
    "gvar = float(gsig[2])\n",
    "\n",
    "trajvar = trajvar\n",
    "x_init = np.zeros(len(trajmeans))\n",
    "#x_init = trajmeans\n",
    "trajvarinv = inv(trajvar)\n",
    "T = sum(durations)"
   ]
  },
  {
   "cell_type": "code",
   "execution_count": null,
   "metadata": {},
   "outputs": [],
   "source": []
  },
  {
   "cell_type": "code",
   "execution_count": 108,
   "metadata": {},
   "outputs": [],
   "source": [
    "alpha = 3*T"
   ]
  },
  {
   "cell_type": "code",
   "execution_count": 119,
   "metadata": {},
   "outputs": [],
   "source": [
    "def trajfunction(x):\n",
    "    \n",
    "    alpha = 3*T\n",
    "    \n",
    "    orig = (1/2)*np.dot(np.dot(np.transpose(x - trajmeans),trajvarinv), (x-trajmeans))\n",
    "    globvar = (alpha/2) *(x.var()-gmu )**2/gvar\n",
    "\n",
    "    print x\n",
    "    print (orig+globvar)\n",
    "    return (orig+globvar)"
   ]
  },
  {
   "cell_type": "code",
   "execution_count": 120,
   "metadata": {},
   "outputs": [],
   "source": [
    "def gvExpt(x,*args):\n",
    "    T = args[0]\n",
    "    trajmeans = args[1]\n",
    "    trajvarinv = args[2]\n",
    "    gmu = args[3]\n",
    "    gvar = args[4]\n",
    "\n",
    "    \n",
    "    alpha = 3*T\n",
    "    \n",
    "    orig = (1/2)*np.dot(np.dot(np.transpose(x - trajmeans),trajvarinv), (x-trajmeans))\n",
    "    globvar = (alpha/2) *(x.var()-gmu )**2/gvar\n",
    "    print (orig+globvar)\n",
    "    return (orig+globvar)"
   ]
  },
  {
   "cell_type": "code",
   "execution_count": 121,
   "metadata": {},
   "outputs": [
    {
     "ename": "SyntaxError",
     "evalue": "invalid syntax (<ipython-input-121-c51790311f4e>, line 11)",
     "output_type": "error",
     "traceback": [
      "\u001b[0;36m  File \u001b[0;32m\"<ipython-input-121-c51790311f4e>\"\u001b[0;36m, line \u001b[0;32m11\u001b[0m\n\u001b[0;31m    return (orig+globvar)\u001b[0m\n\u001b[0m         ^\u001b[0m\n\u001b[0;31mSyntaxError\u001b[0m\u001b[0;31m:\u001b[0m invalid syntax\n"
     ]
    }
   ],
   "source": [
    "def jacobiancheck(x,*args):\n",
    "    T = args[0]\n",
    "    trajmeans = args[1]\n",
    "    trajvarinv = args[2]\n",
    "    gmu = args[3]\n",
    "    gvar = args[4]\n",
    "\n",
    "    alpha = 3*T\n",
    "    orig =  np.dot(np.transpose(x-trajmeans), trajvarinv)\n",
    "    globvar = (2*alpha/(gvar*T))*(x.var()-gmu)*(x-np.mean(x)\n",
    "    return (orig+globvar)"
   ]
  },
  {
   "cell_type": "code",
   "execution_count": 122,
   "metadata": {},
   "outputs": [],
   "source": [
    "def jacobian(x):\n",
    "    alpha = 3*T\n",
    "    orig =  np.dot(np.transpose(x-trajmeans), trajvarinv)\n",
    "    globvar = (2*alpha/(gvar*T))*(x.var()-gmu)*(x-np.mean(x))\n",
    "    return (orig+globvar)"
   ]
  },
  {
   "cell_type": "code",
   "execution_count": null,
   "metadata": {},
   "outputs": [],
   "source": []
  },
  {
   "cell_type": "code",
   "execution_count": 118,
   "metadata": {},
   "outputs": [
    {
     "name": "stdout",
     "output_type": "stream",
     "text": [
      "15485.378969737912\n",
      "15367.01004789288\n",
      "12662.397430334588\n",
      "7345.187710128228\n",
      "9172.947455499234\n",
      "7.521416796317646\n",
      "381.89223056167106\n",
      "4.125407382634318\n",
      "188.78540164621472\n",
      "17.944765637374633\n",
      "6.046940065973919\n",
      "4.471884039728158\n",
      "4.192055647720999\n",
      "4.1384003154534295\n",
      "4.127947029353363\n",
      "4.125904048606082\n",
      "4.125504522953702\n",
      "4.125426382181852\n",
      "4.125411098745313\n",
      "4.125408109466882\n",
      "4.125407524795174\n",
      "4.125407410439525\n",
      "4.1254073880725874\n",
      "4.125407383698052\n",
      "4.125407382842241\n",
      "4.125407382674955\n",
      "4.125407382642357\n",
      "4.125407382634318\n",
      "15367.01004789288\n",
      "15014.628112492233\n",
      "13645.972822906388\n",
      "8825.310896830908\n",
      "6.010908815317906\n",
      "908.605917843559\n",
      "129.98386187741772\n",
      "33.68405519603804\n",
      "14.1321959480513\n",
      "8.828477215105021\n",
      "7.073472579052748\n",
      "6.42689060104736\n",
      "6.176342613749299\n",
      "6.077126551230693\n",
      "6.037482929276277\n",
      "6.021584623799798\n"
     ]
    }
   ],
   "source": [
    "minimum = minimize(trajfunction, x_init, jac = jacobian, tol = 10e-6)"
   ]
  },
  {
   "cell_type": "code",
   "execution_count": 114,
   "metadata": {},
   "outputs": [
    {
     "data": {
      "image/png": "[encoded data removed]",
      "text/plain": [
       "<matplotlib.figure.Figure at 0x7f94fb0b9150>"
      ]
     },
     "metadata": {},
     "output_type": "display_data"
    }
   ],
   "source": [
    "\n",
    "plt.plot(trajmeans)\n",
    "plt.plot(minimum.x)\n",
    "plt.show()"
   ]
  },
  {
   "cell_type": "code",
   "execution_count": null,
   "metadata": {},
   "outputs": [],
   "source": []
  },
  {
   "cell_type": "code",
   "execution_count": null,
   "metadata": {},
   "outputs": [],
   "source": []
  },
  {
   "cell_type": "code",
   "execution_count": 15,
   "metadata": {},
   "outputs": [],
   "source": [
    "gvarmean = subprocess.check_output(['./bin/x2x', '+da', 'models/hts/gv-mcep.pdf'])\n",
    "gvarmean= gvarmean.split()\n",
    "\n",
    "gmeans = gvarmean[0:60]\n",
    "gsig = gvarmean[60:120]"
   ]
  },
  {
   "cell_type": "code",
   "execution_count": 27,
   "metadata": {},
   "outputs": [
    {
     "data": {
      "text/plain": [
       "array([ 1.09647061e-02,  1.40590918e-02,  4.70841444e-02,  4.37974341e-02,\n",
       "        1.05610481e-01,  1.05703504e-01,  1.07651920e-01,  1.07651920e-01,\n",
       "        1.07651920e-01,  1.07651920e-01,  1.07651920e-01,  1.07651920e-01,\n",
       "        1.07651920e-01,  1.07651920e-01,  1.07651920e-01,  1.07651920e-01,\n",
       "        1.07651920e-01,  1.07651920e-01,  1.07651920e-01,  1.07651920e-01,\n",
       "        1.07651920e-01,  1.07651920e-01,  1.07651920e-01,  1.07651920e-01,\n",
       "        1.07651920e-01,  1.07651920e-01,  1.07651920e-01,  1.07651920e-01,\n",
       "        1.07651920e-01,  1.07651920e-01,  1.07651920e-01,  1.07651920e-01,\n",
       "        1.07651920e-01,  1.09346713e-01,  1.07767628e-01,  1.99553462e-02,\n",
       "        1.91079494e-02,  2.22661202e-02,  2.22661202e-02,  1.60942200e-02,\n",
       "        1.39158211e-02,  6.70739508e-02,  7.01599009e-02,  7.45166988e-02,\n",
       "        8.96817635e-02,  9.27526777e-02,  4.36521179e-02,  3.60695855e-02,\n",
       "        2.71364493e-02,  2.39012089e-02,  1.37963407e-02, -1.79058228e-02,\n",
       "       -2.11336163e-02, -9.06960120e-03,  2.93462937e-02,  6.47471185e-02,\n",
       "        3.74713556e-01,  3.63780063e-01,  3.31771510e-01,  3.10069345e-01,\n",
       "        2.83463110e-01,  1.74274882e-01,  1.85125964e-01,  2.08275933e-01,\n",
       "        2.32069995e-01,  5.41849830e-01,  4.61146865e-01,  4.51316481e-01,\n",
       "        1.10378114e+00,  1.15164825e+00,  1.07613277e+00,  1.07613277e+00,\n",
       "        1.07613277e+00,  1.22238334e+00,  1.25820780e+00,  9.49724430e-01,\n",
       "        8.44538322e-01,  7.65575681e-01,  2.73751114e-01,  2.66263327e-01,\n",
       "        1.94514511e-01,  1.55902739e-01,  1.10891501e-02, -8.45546855e-03,\n",
       "        4.73121839e-02,  3.77143060e-02,  2.56472297e-02,  1.64525993e-02,\n",
       "        2.12515383e-02,  4.53856909e-02,  4.33084802e-02,  2.21936014e-02,\n",
       "       -6.38374710e-02, -4.92058930e-02,  6.64010099e-02,  9.21386720e-02,\n",
       "        6.32925331e-02,  5.05459572e-02,  2.90205141e-02,  7.29857840e-03,\n",
       "       -1.83710357e-03,  1.42094246e-02,  9.16701559e-02,  6.29581445e-02,\n",
       "        4.21140016e-02,  7.95517753e-02,  1.31776236e-01,  5.19293757e-01,\n",
       "        5.79482709e-01,  7.37057723e-01,  8.15117847e-01,  6.00633067e-01,\n",
       "        3.14665544e-01,  9.75814995e-02,  3.83568844e-01,  4.07114094e-01,\n",
       "        3.26401171e-01,  3.27271862e-01,  2.65178172e-01,  9.27368948e-02,\n",
       "        1.15003900e-01,  1.67419816e-01,  2.13953514e-01,  2.02602338e-01,\n",
       "        2.58910928e-01,  3.23620122e-01,  3.12857972e-01,  2.92753046e-01,\n",
       "        7.58988566e-01,  6.50942367e-01,  7.44891663e-01,  1.28391010e+00,\n",
       "        1.33190912e+00,  1.31542286e+00,  1.52257060e+00,  1.50464352e+00,\n",
       "        1.41200240e+00,  1.41200240e+00,  1.41200240e+00,  1.45476502e+00,\n",
       "        1.50749863e+00,  1.00131498e+00,  9.79933666e-01,  9.74478735e-01,\n",
       "        8.86128475e-01,  3.02474738e-01,  2.52468600e-01,  4.28306078e-01,\n",
       "        3.96427616e-01, -1.86750908e-02, -1.82435695e-02,  4.55133548e-02,\n",
       "        2.14728207e-02,  3.95792305e-03, -2.80626545e-02, -1.60423875e-02,\n",
       "        1.89874078e-02,  1.89874078e-02, -2.83963251e-03, -3.87297666e-03,\n",
       "        1.55521354e-01,  1.66434874e-01,  1.68501562e-01,  1.68501562e-01,\n",
       "        1.68501562e-01,  1.68501562e-01,  2.11103133e-01,  2.23447049e-01,\n",
       "        4.68125904e-01,  4.46924943e-01,  7.67558705e-02,  8.35649825e-02,\n",
       "        8.89263866e-02,  8.07525296e-02,  1.63605705e-02,  1.10278648e-02,\n",
       "        1.50730253e-02, -1.17211336e-02, -3.97810919e-02, -1.20102460e-02,\n",
       "        3.15239605e-02,  6.00938045e-02,  4.13167887e-01,  4.11657866e-01,\n",
       "        4.09308793e-01,  3.96764935e-01,  2.94677298e-01,  2.81950014e-01,\n",
       "        3.07037731e-01,  3.07037731e-01,  3.07037731e-01,  2.31313694e-01,\n",
       "        2.39697478e-01,  6.09649510e-01,  6.47511528e-01,  6.22975328e-01,\n",
       "        6.41730766e-01,  1.45501953e+00,  1.45890384e+00,  1.42139297e+00,\n",
       "        1.42139297e+00,  1.42139297e+00,  1.42139297e+00,  1.42139297e+00,\n",
       "        1.42139297e+00,  1.42139297e+00,  1.51505751e+00,  1.57107171e+00,\n",
       "        1.63303531e+00,  1.58620304e+00,  1.47417464e+00,  1.47417464e+00,\n",
       "        1.49748183e+00,  1.57948451e+00,  1.50262937e+00,  1.49097578e+00,\n",
       "        1.32697042e+00,  1.32697042e+00,  1.27210984e+00,  1.19224529e+00,\n",
       "        3.77330352e-01,  4.04760639e-01,  5.96157866e-01,  5.30159683e-01,\n",
       "       -7.45485621e-02, -9.03826236e-02,  3.50189209e-02,  1.92020643e-02,\n",
       "       -1.65826229e-02, -4.54516034e-02, -1.86523611e-02,  1.82031426e-02,\n",
       "        4.65974308e-02,  1.91170934e-01,  1.87613526e-01,  1.62991342e-01,\n",
       "        1.84316470e-01,  1.74674697e-01,  9.64733264e-02,  8.58107621e-02,\n",
       "        5.28430586e-02,  5.51335022e-02,  2.35626408e-01,  2.67347518e-01,\n",
       "        2.18236452e-01,  2.36000496e-01,  1.39748082e-01,  3.88894134e-01,\n",
       "        6.50973927e-01,  5.69827405e-01,  3.31783407e-01,  8.46544681e-02,\n",
       "        4.81722639e-01,  8.35935319e-01,  9.86508346e-01,  6.71270296e-01,\n",
       "        2.82302321e-01,  9.29193890e-02,  4.20326381e-02,  1.22541401e-02,\n",
       "        1.45094973e-02,  3.85471220e-02,  8.04040157e-02,  4.47545529e-02,\n",
       "        1.54015941e-02,  1.00570030e-02,  4.66278667e-02,  3.33447350e-02,\n",
       "        1.07411876e-01,  4.97514478e-01,  5.79482709e-01,  7.37057723e-01,\n",
       "        8.15117847e-01,  6.00633067e-01,  3.97608348e-01,  2.24651781e-01,\n",
       "        6.34582808e-01,  6.16656656e-01,  5.82399414e-01,  3.78254265e-01,\n",
       "        8.96177526e-02,  2.22624337e-02,  4.30552731e-01,  4.30552731e-01,\n",
       "        1.15805239e-01,  1.87867741e-01,  2.31988837e-01,  3.89362583e-01,\n",
       "        2.45237578e-01,  6.32633929e-02,  7.15702758e-02,  5.10826198e-01,\n",
       "        6.31779775e-01,  6.48601065e-01,  4.67539956e-01,  5.01765058e-01,\n",
       "        5.32859940e-01,  5.29081372e-01,  8.84157477e-01,  1.18062085e+00,\n",
       "        1.19816510e+00,  1.10860542e+00,  1.10860542e+00,  1.10860542e+00,\n",
       "        1.10860542e+00,  1.16724689e+00,  1.17849495e+00,  7.07134234e-01,\n",
       "        6.13806798e-01,  1.39434820e-01,  6.78738076e-02,  1.33155378e-03,\n",
       "       -1.85666667e-03,  4.21154410e-02,  1.87933490e-02,  1.24586685e-03,\n",
       "       -2.77686025e-02, -1.61075565e-02,  1.89874078e-02,  1.89874078e-02,\n",
       "       -2.83963251e-03, -3.87297666e-03,  1.55521354e-01,  1.66434874e-01,\n",
       "        1.68501562e-01,  1.68501562e-01,  1.68501562e-01,  1.68501562e-01,\n",
       "        2.11103133e-01,  2.23447049e-01,  4.68125904e-01,  4.46924943e-01,\n",
       "        7.67558705e-02,  8.35649825e-02,  8.89263866e-02,  8.07525296e-02,\n",
       "        1.63605705e-02,  1.35800432e-02,  2.71364493e-02,  2.39012089e-02,\n",
       "        1.37963407e-02, -1.97214604e-02, -2.49379302e-02, -1.41963768e-02,\n",
       "        2.18032588e-02,  6.23792637e-02,  3.71129845e-01,  3.61858390e-01,\n",
       "        3.38451646e-01,  3.22009357e-01,  3.93284047e-01,  3.36165039e-01,\n",
       "        3.74619198e-01,  5.39515437e-01,  4.58724547e-01,  5.25807697e-01,\n",
       "        1.04354621e+00,  1.10966932e+00,  9.72650818e-01,  1.15386896e+00,\n",
       "        1.14745766e+00,  1.16724689e+00,  1.17849495e+00,  6.07984317e-01,\n",
       "        6.80581910e-01,  5.90421940e-01,  4.35118608e-01,  3.67337692e-01,\n",
       "        5.41981479e-01,  3.30748859e-01,  3.87674703e-01,  6.26222875e-01,\n",
       "        6.84623412e-01,  5.99755033e-01,  5.75373379e-01,  4.13416504e-01,\n",
       "        4.07613031e-01,  1.98644155e-01,  1.20695461e-01,  1.50690057e-01,\n",
       "        5.17701797e-02,  4.42666673e-02,  4.45711822e-02,  1.89658461e-01,\n",
       "        1.83500713e-01,  1.84498756e-01,  5.96080145e-01,  6.01220122e-01,\n",
       "        6.10767310e-01,  6.10767310e-01,  6.10767310e-01,  6.10767310e-01,\n",
       "        6.21177490e-01,  6.39085734e-01,  5.59543081e-01,  2.56757198e-01,\n",
       "        9.50354286e-02,  6.05703756e-02,  6.93967361e-02,  4.87623306e-02,\n",
       "       -2.52458415e-02, -5.64774056e-02, -1.63017640e-02,  2.40877561e-02,\n",
       "        5.44456610e-02,  2.39509002e-01,  2.25264807e-01,  9.56765802e-02,\n",
       "        3.54187965e-02,  6.32283693e-02,  5.08052731e-01,  4.56988118e-01,\n",
       "        5.41691667e-01,  1.09436350e+00,  1.21828129e+00,  1.04870610e+00,\n",
       "        6.49136203e-01,  6.21782900e-01,  7.25712451e-01,  5.66927952e-01,\n",
       "        4.12072020e-01,  2.48126604e-02,  4.18492666e-01,  5.79807492e-01,\n",
       "        6.79624439e-01,  5.39116504e-01,  5.39116504e-01,  4.63555978e-01,\n",
       "        5.06793499e-01,  5.78965778e-01,  6.16746041e-01,  5.30270998e-01,\n",
       "        4.93922060e-01,  4.28321076e-01,  1.18897255e-01,  1.41923876e-01,\n",
       "        1.84121502e-01,  3.25611111e-02,  4.08828219e-02,  6.91795118e-02,\n",
       "        4.37088584e-02,  3.27812433e-02,  4.78902158e-02,  4.78902158e-02,\n",
       "        1.34653840e-02, -3.36529393e-03, -3.37755095e-02, -1.65630936e-02,\n",
       "        2.42865637e-02,  4.08202405e-02,  1.21327972e-01,  1.84336751e-01,\n",
       "        1.74795600e-01,  2.99659249e-01,  2.66357784e-01,  2.19305379e-01,\n",
       "        2.19305379e-01,  2.19305379e-01,  2.01919795e-01,  1.91213785e-01,\n",
       "        1.71816337e-01,  1.80509129e-01,  2.01921149e-01,  2.01921149e-01,\n",
       "        2.01921149e-01,  2.01921149e-01,  1.76404603e-01,  1.65662533e-01,\n",
       "        1.14838516e-01,  1.27596789e-01,  1.49080929e-01,  1.49080929e-01,\n",
       "        1.49080929e-01,  1.49080929e-01,  1.49080929e-01,  1.49080929e-01,\n",
       "        1.49080929e-01,  1.49080929e-01,  1.43405193e-01,  1.39060601e-01,\n",
       "        4.37163134e-02,  4.35442678e-02,  5.19132973e-02,  8.63648884e-02,\n",
       "        8.78698451e-02,  8.85101551e-02,  8.85101551e-02,  8.85101551e-02,\n",
       "        8.85101551e-02,  8.85101551e-02,  8.85101551e-02,  8.85101551e-02,\n",
       "        8.85101551e-02,  8.85101551e-02,  8.85101551e-02,  8.85101551e-02,\n",
       "        8.85101551e-02,  8.85101551e-02,  8.85101551e-02,  8.85101551e-02,\n",
       "        8.85101551e-02,  8.85101551e-02,  8.85101551e-02,  8.85101551e-02,\n",
       "        8.85101551e-02,  8.85101551e-02,  8.85101551e-02,  8.85101551e-02,\n",
       "        8.85101551e-02,  8.54703877e-02,  8.39390835e-02,  1.65736622e-01,\n",
       "        1.68903275e-01])"
      ]
     },
     "execution_count": 27,
     "metadata": {},
     "output_type": "execute_result"
    }
   ],
   "source": [
    "minimum.x\n"
   ]
  },
  {
   "cell_type": "code",
   "execution_count": 65,
   "metadata": {},
   "outputs": [
    {
     "data": {
      "image/png": "[encoded data removed]",
      "text/plain": [
       "<matplotlib.figure.Figure at 0x7fecd8ae4050>"
      ]
     },
     "metadata": {},
     "output_type": "display_data"
    }
   ],
   "source": [
    "plt.plot(minimum)\n",
    "plt.show()"
   ]
  },
  {
   "cell_type": "code",
   "execution_count": 61,
   "metadata": {},
   "outputs": [
    {
     "data": {
      "image/png": "[encoded data removed]",
      "text/plain": [
       "<matplotlib.figure.Figure at 0x7fecd5c290d0>"
      ]
     },
     "metadata": {},
     "output_type": "display_data"
    }
   ],
   "source": [
    "plt.plot(minimum)\n",
    "plt.show()"
   ]
  },
  {
   "cell_type": "code",
   "execution_count": 57,
   "metadata": {},
   "outputs": [
    {
     "data": {
      "image/png": "[encoded data removed]",
      "text/plain": [
       "<matplotlib.figure.Figure at 0x7fed7ab91e50>"
      ]
     },
     "metadata": {},
     "output_type": "display_data"
    }
   ],
   "source": [
    "plt.plot(minimum)\n",
    "plt.show()"
   ]
  },
  {
   "cell_type": "code",
   "execution_count": 53,
   "metadata": {},
   "outputs": [
    {
     "data": {
      "image/png": "[encoded data removed]",
      "text/plain": [
       "<matplotlib.figure.Figure at 0x7fed70460ed0>"
      ]
     },
     "metadata": {},
     "output_type": "display_data"
    }
   ],
   "source": [
    "plt.plot(minimum)\n",
    "plt.show()"
   ]
  },
  {
   "cell_type": "code",
   "execution_count": 54,
   "metadata": {},
   "outputs": [
    {
     "data": {
      "image/png": "[encoded data removed]",
      "text/plain": [
       "<matplotlib.figure.Figure at 0x7fecd5e4b750>"
      ]
     },
     "metadata": {},
     "output_type": "display_data"
    }
   ],
   "source": [
    "plt.plot(trajmeans)\n",
    "plt.show()"
   ]
  },
  {
   "cell_type": "code",
   "execution_count": 86,
   "metadata": {},
   "outputs": [
    {
     "name": "stdout",
     "output_type": "stream",
     "text": [
      "20585.2963953865\n"
     ]
    },
    {
     "data": {
      "text/plain": [
       "20585.2963953865"
      ]
     },
     "execution_count": 86,
     "metadata": {},
     "output_type": "execute_result"
    }
   ],
   "source": [
    "trajfunction(x_init)"
   ]
  },
  {
   "cell_type": "code",
   "execution_count": 87,
   "metadata": {},
   "outputs": [
    {
     "name": "stdout",
     "output_type": "stream",
     "text": [
      "513 [ 0.20936855  0.21860795  0.35063417  0.3715678   0.36043388  0.38423823\n",
      "  0.37156129  0.37473572  0.37820546  0.3739137   0.37682822  0.37618898\n",
      "  0.37565491  0.37657629  0.37600581  0.37619448  0.37630046  0.37612441\n",
      "  0.3762511   0.37618075  0.37616054  0.37616221  0.37605007  0.37607735\n",
      "  0.37588851  0.37576304  0.37575665  0.37507179  0.37519177  0.37452847\n",
      "  0.37298663  0.37396093  0.36995049  0.36877881  0.36903096  0.35304193\n",
      "  0.34873421  0.33666911  0.32745321  0.31756324  0.31576248  0.29111293\n",
      "  0.28106879  0.27808933  0.26056268  0.25943751  0.30239405  0.30795204\n",
      "  0.31875381  0.33884519  0.31162244  0.28027104  0.19638547 -0.08268807\n",
      " -0.33532663 -0.3996012  -0.56464913 -0.56292731 -0.55033879 -0.58139122\n",
      " -0.55854813 -0.52036736 -0.5666135  -0.60680029 -0.66078522 -0.82469138\n",
      " -0.93225893 -0.93344009 -0.99813788 -0.98491252 -0.9978609  -1.02496028\n",
      " -0.99940236 -1.03122653 -1.02200156 -1.00721342 -1.0267602  -0.95454474\n",
      " -0.93057716 -0.86587447 -0.71543481 -0.65011763 -0.46807142 -0.32137269\n",
      " -0.17256889  0.0921706   0.15769456  0.35638316  0.38768833  0.32815744\n",
      "  0.41148132  0.35684316  0.27694157  0.27893433 -0.04438046 -0.04675526\n",
      "  0.03171367 -0.03107165  0.08699725  0.06190293  0.07148807  0.06995933\n",
      " -0.07110744  0.02443239 -0.04959835 -0.04742336 -0.14969596 -0.31064357\n",
      " -0.3587958  -0.40566503 -0.41967789 -0.40640417 -0.38727111 -0.32358158\n",
      " -0.3078647  -0.30218469 -0.25238112 -0.25146962 -0.2202259  -0.17225797\n",
      " -0.16083018 -0.1343293  -0.11135372 -0.12462615 -0.12259664 -0.13615407\n",
      " -0.18722469 -0.21669932 -0.27129776 -0.33329741 -0.37742363 -0.41964861\n",
      " -0.47342018 -0.48191285 -0.50205856 -0.50727591 -0.5136607  -0.52383261\n",
      " -0.52603529 -0.53281844 -0.54046501 -0.54564774 -0.55611572 -0.54966099\n",
      " -0.54889051 -0.54362849 -0.52173915 -0.49218945 -0.46983667 -0.38998118\n",
      " -0.33717934 -0.22428174 -0.12681987 -0.07300052  0.01182962  0.00825649\n",
      " -0.09843601 -0.09537585 -0.18692336 -0.21522823 -0.30353076 -0.33697668\n",
      " -0.33696866 -0.37625135 -0.38319836 -0.36418658 -0.40189034 -0.3637767\n",
      " -0.30647281 -0.27909581 -0.14449805 -0.09197355 -0.01046819  0.07473282\n",
      "  0.19945637  0.25736523  0.2791843   0.22763084  0.20542871  0.08448952\n",
      " -0.13353363 -0.17019919 -0.1975708  -0.19752412 -0.20524533 -0.20873886\n",
      " -0.14945767 -0.15041432 -0.13626828 -0.10580062 -0.15216075 -0.08276465\n",
      " -0.14525691 -0.2393995  -0.26312267 -0.37402767 -0.39652593 -0.43010806\n",
      " -0.45022272 -0.45647757 -0.47721579 -0.48301385 -0.49082285 -0.50635345\n",
      " -0.50905352 -0.52090435 -0.53442103 -0.53578346 -0.55261567 -0.55612434\n",
      " -0.57305694 -0.59056562 -0.59932823 -0.62506976 -0.64775518 -0.67508309\n",
      " -0.69726736 -0.71792215 -0.7431158  -0.74987875 -0.76810756 -0.76439406\n",
      " -0.66483481 -0.63754011 -0.4842119  -0.3489472  -0.17434293 -0.01485838\n",
      "  0.12767325  0.22151656  0.16764739 -0.04905731 -0.08959971 -0.10776055\n",
      " -0.15870308 -0.1215209  -0.17584798 -0.15980838 -0.10193739 -0.14198565\n",
      " -0.08502684 -0.12390537 -0.22625599 -0.24774771 -0.35307758 -0.3726198\n",
      " -0.3570799  -0.37331097 -0.32577215 -0.28867813 -0.21038294 -0.12674849\n",
      " -0.13688182 -0.08442327 -0.08872689 -0.0718021  -0.02965307 -0.03809446\n",
      " -0.00364861 -0.00215686 -0.00351047 -0.01111293 -0.04102231  0.01037863\n",
      "  0.03335511 -0.03074385 -0.0330905  -0.04809548 -0.11040762 -0.28367203\n",
      " -0.34218695 -0.37246182 -0.39275901 -0.38824727 -0.34856485 -0.3110367\n",
      " -0.31742048 -0.33945274 -0.34827582 -0.3806542  -0.40555176 -0.42591886\n",
      " -0.44204422 -0.46155046 -0.47618068 -0.49833083 -0.53092779 -0.56801999\n",
      " -0.59288682 -0.635496   -0.66415909 -0.6806733  -0.72165158 -0.69781232\n",
      " -0.70395774 -0.69749599 -0.67763734 -0.70043715 -0.69693289 -0.71906011\n",
      " -0.74911843 -0.72958283 -0.76312669 -0.7569452  -0.74681824 -0.77153289\n",
      " -0.73332895 -0.7348652  -0.71446687 -0.62493054 -0.60328744 -0.44771044\n",
      " -0.35675906 -0.27054172 -0.11931967 -0.07180122  0.00945208  0.0202496\n",
      " -0.10014005 -0.09211037 -0.18441806 -0.21531747 -0.30232733 -0.33604932\n",
      " -0.33686319 -0.37566511 -0.381984   -0.36476711 -0.40041585 -0.36236856\n",
      " -0.30799413 -0.27385114 -0.14569399 -0.09048275  0.00106247  0.06678269\n",
      "  0.21970157  0.27107814  0.28535828  0.34866213  0.33781343  0.34881249\n",
      "  0.3105161   0.12637226 -0.00868486 -0.06031926 -0.20521551 -0.17786365\n",
      " -0.1960916  -0.20143022 -0.09452166 -0.05362708 -0.10154812 -0.18375327\n",
      " -0.34076527 -0.37934808 -0.48881441 -0.55042351 -0.56424612 -0.64188238\n",
      " -0.62598946 -0.64894737 -0.67159701 -0.62346792 -0.64663991 -0.56884297\n",
      " -0.50568766 -0.44976838 -0.28236339 -0.16434527 -0.12455885 -0.04983035\n",
      " -0.04614255 -0.02135937  0.0057097  -0.00632946  0.01971884  0.01879372\n",
      "  0.0177937   0.00836848  0.03136702  0.03457151  0.10147975  0.16083553\n",
      "  0.2076743   0.20705437  0.19207747  0.18200875  0.17740056  0.16333431\n",
      "  0.16386801  0.16179932  0.14348622  0.16490455  0.13970454  0.13197353\n",
      "  0.22801684  0.25538159  0.23867978  0.31532857  0.26041292  0.28209575\n",
      "  0.20711821 -0.04190214 -0.07374258 -0.10771614 -0.1074772  -0.0758391\n",
      " -0.04479061 -0.14264192 -0.23356758 -0.36825849 -0.37318932 -0.38927386\n",
      " -0.3963668  -0.37289939 -0.36711863 -0.32938321 -0.28219838 -0.2356025\n",
      " -0.1474543  -0.07561489 -0.05933005 -0.01152313 -0.00313699  0.01291602\n",
      "  0.03557164  0.0419329   0.05818359  0.06936111  0.07430851  0.09100423\n",
      "  0.09642947  0.10685003  0.11864694  0.12263309  0.15596627  0.18682874\n",
      "  0.22085172  0.23632331  0.29150092  0.29941353  0.29494082  0.26746676\n",
      "  0.27569064  0.26005102  0.07289874  0.03805016 -0.15222537 -0.20715309\n",
      " -0.22550754 -0.24720257 -0.22019728 -0.18219369 -0.16933517 -0.14534346\n",
      " -0.13543023 -0.11594227 -0.09492601 -0.09054755 -0.03202659 -0.02276082\n",
      "  0.0074917   0.04237562  0.052065    0.0886443   0.12669945  0.13571824\n",
      "  0.21359468  0.2173068   0.228658    0.25286475  0.24998367  0.26299866\n",
      "  0.26782194  0.27117698  0.28006785  0.28050917  0.29316257  0.29634568\n",
      "  0.30153395  0.31817036  0.32103083  0.35296472  0.3529378   0.35565836\n",
      "  0.36400883  0.36236257  0.36554186  0.36698818  0.36684354  0.36821866\n",
      "  0.36826442  0.36853417  0.3688744   0.36878672  0.36902228  0.36883187\n",
      "  0.3688516   0.36890113  0.36807883  0.36870373  0.36755907  0.36625721\n",
      "  0.36823492  0.36207119  0.36404169  0.3639664   0.34599142  0.36520439\n",
      "  0.33534715  0.30866671  0.32862137] [[ 1.73945531e+02 -1.61471377e-01 -5.87039498e+01 ... -3.67136401e-15\n",
      "  -4.69324170e-15  3.51245931e-15]\n",
      " [-1.61471377e-01  1.90622637e+02  1.37864723e+01 ... -2.58519946e-15\n",
      "   2.15259746e-15  1.52771137e-15]\n",
      " [-5.87039498e+01  1.37864723e+01  2.15828071e+02 ...  4.12264515e-16\n",
      "   6.56831404e-15  7.06049017e-15]\n",
      " ...\n",
      " [ 7.44867657e-15  4.37710936e-15  1.82619052e-14 ...  1.96620383e+02\n",
      "   1.38980764e+01 -4.50099021e+01]\n",
      " [ 6.27169044e-15 -3.72764961e-15  5.67892140e-16 ...  1.38980764e+01\n",
      "   1.38058114e+02  5.57597748e+00]\n",
      " [-3.96116916e-16 -2.42254843e-15  2.70905819e-15 ... -4.50099021e+01\n",
      "   5.57597748e+00  1.23786554e+02]] 0.192342 0.00138203\n"
     ]
    }
   ],
   "source": [
    "print T,trajmeans,trajvarinv,gmu,gvar"
   ]
  },
  {
   "cell_type": "code",
   "execution_count": null,
   "metadata": {},
   "outputs": [],
   "source": []
  },
  {
   "cell_type": "code",
   "execution_count": null,
   "metadata": {},
   "outputs": [],
   "source": []
  },
  {
   "cell_type": "code",
   "execution_count": 28,
   "metadata": {},
   "outputs": [],
   "source": []
  },
  {
   "cell_type": "code",
   "execution_count": null,
   "metadata": {},
   "outputs": [],
   "source": []
  },
  {
   "cell_type": "code",
   "execution_count": null,
   "metadata": {},
   "outputs": [],
   "source": []
  },
  {
   "cell_type": "code",
   "execution_count": null,
   "metadata": {},
   "outputs": [],
   "source": []
  }
 ],
 "metadata": {
  "kernelspec": {
   "display_name": "Python 2",
   "language": "python",
   "name": "python2"
  },
  "language_info": {
   "codemirror_mode": {
    "name": "ipython",
    "version": 2
   },
   "file_extension": ".py",
   "mimetype": "text/x-python",
   "name": "python",
   "nbconvert_exporter": "python",
   "pygments_lexer": "ipython2",
   "version": "2.7.12"
  }
 },
 "nbformat": 4,
 "nbformat_minor": 2
}

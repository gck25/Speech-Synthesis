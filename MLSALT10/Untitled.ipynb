{
 "cells": [
  {
   "cell_type": "code",
   "execution_count": 1,
   "metadata": {},
   "outputs": [
    {
     "name": "stderr",
     "output_type": "stream",
     "text": [
      "ln: failed to create symbolic link './bin': File exists\n",
      "ln: failed to create symbolic link './models': File exists\n",
      "ln: failed to create symbolic link './original': File exists\n"
     ]
    }
   ],
   "source": [
    "%%bash\n",
    "\n",
    "ln -s /usr/local/teach/MLSALT10/Practical/bin\n",
    "  ln -s /usr/local/teach/MLSALT10/Practical/models\n",
    "  ln -s /usr/local/teach/MLSALT10/Practical/original\n",
    "\n"
   ]
  },
  {
   "cell_type": "code",
   "execution_count": 2,
   "metadata": {},
   "outputs": [
    {
     "name": "stdout",
     "output_type": "stream",
     "text": [
      "Processing: original/txt/utt1.txt\n",
      "...Make utterance files...\n",
      "...Make feature files...\n",
      "...Make full-context labels...\n"
     ]
    }
   ],
   "source": [
    "!./scripts/txt2lab.sh original/txt/utt1.txt lab"
   ]
  },
  {
   "cell_type": "code",
   "execution_count": 11,
   "metadata": {},
   "outputs": [
    {
     "name": "stdout",
     "output_type": "stream",
     "text": [
      "F0 transform:\r\n",
      "Mel transform\r\n",
      "Bark scale (by Julius)\r\n"
     ]
    }
   ],
   "source": [
    "! ./scripts/lab2traj.sh  -hmmdir models/hts -labdir lab -outdir traj -filename utt1"
   ]
  },
  {
   "cell_type": "code",
   "execution_count": 9,
   "metadata": {},
   "outputs": [
    {
     "name": "stdout",
     "output_type": "stream",
     "text": [
      "./matlab/load_traj.m: 1: ./matlab/load_traj.m: Syntax error: \"(\" unexpected\r\n"
     ]
    }
   ],
   "source": [
    "!./matlab/load_traj.m traj/utt1.mcep"
   ]
  },
  {
   "cell_type": "code",
   "execution_count": 5,
   "metadata": {},
   "outputs": [
    {
     "name": "stdout",
     "output_type": "stream",
     "text": [
      "ls: cannot access 'home/MLSALT10/original/': No such file or directory\r\n"
     ]
    }
   ],
   "source": [
    "!ls home/MLSALT10/original/"
   ]
  },
  {
   "cell_type": "code",
   "execution_count": 1,
   "metadata": {},
   "outputs": [],
   "source": [
    "with open(\"traj/utt1.f0.txt\", \"w\") as f:\n",
    "    for i in range(551):\n",
    "        f.write(\"0\\n\")"
   ]
  },
  {
   "cell_type": "code",
   "execution_count": 10,
   "metadata": {},
   "outputs": [
    {
     "name": "stdout",
     "output_type": "stream",
     "text": [
      "Bark scale (by Julius)\n",
      "done.\n"
     ]
    }
   ],
   "source": [
    "!./scripts/traj2wav.sh  -trajdir traj-dur -outdir wav -filename utt1\n"
   ]
  },
  {
   "cell_type": "code",
   "execution_count": 14,
   "metadata": {},
   "outputs": [
    {
     "name": "stdout",
     "output_type": "stream",
     "text": [
      "#! /bin/tcsh \r\n",
      " \r\n",
      "###########################################################################\r\n",
      "## The system as a whole and most of the files in it are distributed      #\r\n",
      "## under the following copyright and conditions                           #\r\n",
      "##                                                                        #\r\n",
      "##                The HMM-based Speech Synthesis Systems                  #\r\n",
      "##             for the Blizzard Challenge and EMIME project               #\r\n",
      "##                Centre for Speech Technology Research                   #\r\n",
      "##                     University of Edinburgh, UK                        #\r\n",
      "##                      Copyright (c) 2007-2008                           #\r\n",
      "##                        All Rights Reserved.                            #\r\n",
      "##                                                                        #\r\n",
      "##  Permission is hereby granted, free of charge, to use and distribute   #\r\n",
      "##  this software and its documentation without restriction, including    #\r\n",
      "##  without limitation the rights to use, copy, modify, merge, publish,   #\r\n",
      "##  distribute, sublicense, and/or sell copies of this work, and to       #\r\n",
      "##  permit persons to whom this work is furnished to do so, subject to    #\r\n",
      "##  the following conditions:                                             #\r\n",
      "##   1. The code must retain the above copyright notice, this list of     #\r\n",
      "##      conditions and the following disclaimer.                          #\r\n",
      "##   2. Any modifications must be clearly marked as such.                 #\r\n",
      "##   3. Original authors' names are not deleted.                          #\r\n",
      "##   4. The authors' names are not used to endorse or promote products    #\r\n",
      "##      derived from this software without specific prior written         #\r\n",
      "##      permission.                                                       #\r\n",
      "##                                                                        #\r\n",
      "##  THE UNIVERSITY OF EDINBURGH AND THE CONTRIBUTORS TO THIS WORK         #\r\n",
      "##  DISCLAIM ALL WARRANTIES WITH REGARD TO THIS SOFTWARE, INCLUDING       #\r\n",
      "##  ALL IMPLIED WARRANTIES OF MERCHANTABILITY AND FITNESS, IN NO EVENT    #\r\n",
      "##  SHALL THE UNIVERSITY OF EDINBURGH NOR THE CONTRIBUTORS BE LIABLE      #\r\n",
      "##  FOR ANY SPECIAL, INDIRECT OR CONSEQUENTIAL DAMAGES OR ANY DAMAGES     #\r\n",
      "##  WHATSOEVER RESULTING FROM LOSS OF USE, DATA OR PROFITS, WHETHER IN    #\r\n",
      "##  AN ACTION OF CONTRACT, NEGLIGENCE OR OTHER TORTIOUS ACTION,           #\r\n",
      "##  ARISING OUT OF OR IN CONNECTION WITH THE USE OR PERFORMANCE OF        #\r\n",
      "##  THIS SOFTWARE.                                                        #\r\n",
      "###########################################################################\r\n",
      "##                         Author: Junichi Yamagishi                      #\r\n",
      "##                         Date:   25 Feb 2009                            #\r\n",
      "##                         Contact: jyamagis@inf.ed.ac.uk                 #\r\n",
      "###########################################################################\r\n",
      "##                                                                        #\r\n",
      "##                  Speech Synthesis using hts_engine                     #\r\n",
      "##                                                                        #\r\n",
      "###########################################################################\r\n",
      "\r\n",
      "\r\n",
      "if ($# == 0) then\r\n",
      "    echo \"usage: lab2traj.sh -gv -labdur -hmmdir HMMdir -labdir labeldir -outdir outdir -filename name\"\r\n",
      "    exit\r\n",
      "endif\r\n",
      "\r\n",
      "set ALLARGS=($*)\r\n",
      "\r\n",
      "# Input and output directories \r\n",
      "set HMMdir   = \".\"   # directory of HMM \r\n",
      "set labeldir = \".\"   # directory of input label \r\n",
      "set outdir   = \".\"   # directory of output directory \r\n",
      "set htsopt = \"\"\r\n",
      "\r\n",
      "# Configuration variables\r\n",
      "set shift     = 5   # frame shift in ms\r\n",
      "set method    = 1   # Spectral analysis method \r\n",
      "                    # 1) Mel-cepstrum 2) Mel-generalized cepstrum 3) Mel-LSP 4) MGC-LSP \r\n",
      "set order     = 59  # mel-cepstral analysis order \r\n",
      "set mgcgamma  = 3 \r\n",
      "set rate      = 16000    # Sampling rate \r\n",
      "set scale     = 3        # Variable for scale (1: Mel 2:Bark by Junichi 3: Bark by Julius 4:ERB by Julius)\r\n",
      "                         # Julius Smith \"Bark and ERB Bilinear transforms \r\n",
      "                         # IEEE Speech & Audio Proc Vol.7 No.6 Nov. 1999\r\n",
      "\r\n",
      "set f0scale = 3          # flag for scale for F0 transform \r\n",
      "                         # 1) log scale\r\n",
      "                         # 2) generalized log scale\r\n",
      "                         # 3) mel scale \r\n",
      "\r\n",
      "echo \"F0 transform:\" \r\n",
      "switch ($f0scale)\r\n",
      "    case 1: \r\n",
      "    set lambda = 0.0\r\n",
      "    echo \"Log transform\"\r\n",
      "    breaksw\r\n",
      "    case 2: \r\n",
      "    set lambda = 0.770387       # parameter for power transform (optimized value for a female speaker Meg)\r\n",
      "    echo \"Generalized log transform\"\r\n",
      "    echo \"(lambda = $lambda)\"\r\n",
      "    breaksw\r\n",
      "    case 3: \r\n",
      "    set lambda = -1.0\r\n",
      "    echo \"Mel transform\"\r\n",
      "    breaksw\r\n",
      "    default:\r\n",
      "    echo \"Unknown scale\"\r\n",
      "    break\r\n",
      "endsw\r\n",
      "\r\n",
      "while ( $#argv )\r\n",
      "  switch ( $1 )\r\n",
      "     case -gv:\r\n",
      "       set gvopt = 1 ; breaksw\r\n",
      "     case -labdur:\r\n",
      "       set htsopt = ( $htsopt -vp ) ; breaksw\r\n",
      "     case -hmmdir:\r\n",
      "       set HMMdir = $2; shift; breaksw\r\n",
      "     case -labdir:\r\n",
      "       set labeldir = $2; shift; breaksw\r\n",
      "     case -outdir:\r\n",
      "       set outdir = $2; shift; breaksw\r\n",
      "     case -filename:\r\n",
      "       set file = $2; shift; breaksw\r\n",
      "     default:\r\n",
      "       echo \"Incorrect option $1\"\r\n",
      "       exit 1\r\n",
      "       break\r\n",
      "  endsw\r\n",
      "  shift\r\n",
      "end\r\n",
      "\r\n",
      "if ( $?gvopt ) then\r\n",
      "    set htsopt = ( $htsopt -gf $HMMdir/gv-lf0.pdf -gm $HMMdir/gv-mcep.pdf -ga $HMMdir/gv-bndap.pdf )\r\n",
      "endif\r\n",
      "\r\n",
      "\r\n",
      "set path = ( /usr/local/teach/MLSALT10/Practical/bin ../../bin $path )\r\n",
      "set hts   = hts_engine_straight\r\n",
      "set resyn = synthesis_fft\r\n",
      "\r\n",
      "mkdir -p $outdir\r\n",
      "\r\n",
      "switch ($rate)\r\n",
      "    case 48000\r\n",
      "        set fftlen = 4096\r\n",
      "        switch ($scale)\r\n",
      "        case 1: \r\n",
      "            echo \"Mel scale\"\r\n",
      "            set alpha  = \"0.55\"\r\n",
      "            breaksw\r\n",
      "        case 2: \r\n",
      "            echo \"Bark scale (by Junichi)\"\r\n",
      "            set alpha  = \"0.68\"\r\n",
      "            breaksw\r\n",
      "        case 3: \r\n",
      "            echo \"Bark scale (by Julius)\"\r\n",
      "            set alpha  = \"0.77\"\r\n",
      "            breaksw\r\n",
      "        case 4: \r\n",
      "            echo \"ERB scale (by Julius)\"\r\n",
      "            set alpha  = \"0.74\"\r\n",
      "            breaksw\r\n",
      "        default:\r\n",
      "            echo \"Unknown method\"\r\n",
      "            break\r\n",
      "        endsw\r\n",
      "        breaksw\r\n",
      "    case 44100: \r\n",
      "        set fftlen = 4096 \r\n",
      "        switch ($scale)\r\n",
      "        case 1: \r\n",
      "            echo \"Mel scale\"\r\n",
      "            set alpha  = \"0.53\"\r\n",
      "            breaksw\r\n",
      "        case 2: \r\n",
      "            echo \"Bark scale (by Junichi)\"\r\n",
      "            set alpha  = \"0.67\"\r\n",
      "            breaksw\r\n",
      "        case 3: \r\n",
      "            echo \"Bark scale (by Julius)\"\r\n",
      "            set alpha  = \"0.76\"\r\n",
      "            breaksw\r\n",
      "        case 4: \r\n",
      "            echo \"ERB scale (by Julius)\"\r\n",
      "            set alpha  = \"0.74\"\r\n",
      "            breaksw\r\n",
      "        default:\r\n",
      "            echo \"Unknown method\"\r\n",
      "            break\r\n",
      "        endsw\r\n",
      "        breaksw\r\n",
      "    case 32000: \r\n",
      "        set fftlen = 2048\r\n",
      "        switch ($scale)\r\n",
      "        case 1: \r\n",
      "            echo \"Mel scale\"\r\n",
      "            set alpha  = \"0.45\"\r\n",
      "            breaksw\r\n",
      "        case 2: \r\n",
      "            echo \"Bark scale (by Junichi)\"\r\n",
      "            set alpha  = \"0.59\"\r\n",
      "            breaksw\r\n",
      "        case 3: \r\n",
      "            echo \"Bark scale (by Julius)\"\r\n",
      "            set alpha  = \"0.71\"\r\n",
      "            breaksw\r\n",
      "        case 4: \r\n",
      "            echo \"ERB scale (by Julius)\"\r\n",
      "            set alpha  = \"0.72\"\r\n",
      "            breaksw\r\n",
      "        default:\r\n",
      "            echo \"Unknown method\"\r\n",
      "            break\r\n",
      "        endsw\r\n",
      "        breaksw\r\n",
      "    case 22050: \r\n",
      "        set fftlen = 1024 \r\n",
      "        switch ($scale)\r\n",
      "        case 1: \r\n",
      "            echo \"Mel scale\"\r\n",
      "            set alpha  = \"0.45\"\r\n",
      "            breaksw\r\n",
      "        case 2: \r\n",
      "            echo \"Bark scale (by Junichi)\"\r\n",
      "            set alpha  = \"0.59\"\r\n",
      "            breaksw\r\n",
      "        case 3: \r\n",
      "            echo \"Bark scale (by Julius)\"\r\n",
      "            set alpha  = \"0.65\"\r\n",
      "            breaksw\r\n",
      "        case 4: \r\n",
      "            echo \"ERB scale (by Julius)\"\r\n",
      "            set alpha  = \"0.70\"\r\n",
      "            breaksw\r\n",
      "        default:\r\n",
      "            echo \"Unknown method\"\r\n",
      "            break\r\n",
      "        endsw\r\n",
      "        breaksw\r\n",
      "    case 16000: \r\n",
      "        set fftlen = 1024 \r\n",
      "        switch ($scale)\r\n",
      "        case 1: \r\n",
      "            echo \"Mel scale\"\r\n",
      "            set alpha  = \"0.42\"\r\n",
      "            breaksw\r\n",
      "        case 2: \r\n",
      "            echo \"Bark scale (by Junichi)\"\r\n",
      "            set alpha  = \"0.55\"\r\n",
      "            breaksw\r\n",
      "        case 3: \r\n",
      "            echo \"Bark scale (by Julius)\"\r\n",
      "            set alpha  = \"0.58\"\r\n",
      "            breaksw\r\n",
      "        case 4: \r\n",
      "            echo \"ERB scale (by Julius)\"\r\n",
      "            set alpha  = \"0.67\"\r\n",
      "            breaksw\r\n",
      "        default:\r\n",
      "            echo \"Unknown method\"\r\n",
      "            break\r\n",
      "        endsw\r\n",
      "        breaksw\r\n",
      "    default:\r\n",
      "        echo \"Unknown sampling rate\"\r\n",
      "        break\r\n",
      "endsw\r\n",
      "\r\n",
      "if ( $?file ) then\r\n",
      "    if ( -f $labeldir/${file}.lab ) then\r\n",
      "        set lablist = $labeldir/${file}.lab\r\n",
      "    else \r\n",
      "        echo \"file missing:  $labeldir/${file}.lab\"\r\n",
      "        exit 1\r\n",
      "   endif\r\n",
      "else \r\n",
      "    set lablist = `ls -1 $labeldir/*.lab`\r\n",
      "endif\r\n",
      "\r\n",
      "foreach lab ( $lablist )\r\n",
      "    set f0    = $outdir/$lab:t:r.f0\r\n",
      "    set mcep  = $outdir/$lab:t:r.mcep\r\n",
      "    set apf   = $outdir/$lab:t:r.apf\r\n",
      "    set sspec = $outdir/$lab:t:r.spec\r\n",
      "    set wav   = $outdir/$lab:t:r.wav\r\n",
      "    set LOG   = $outdir/$lab:t:r.LOG\r\n",
      "\r\n",
      "    echo \"$0 $ALLARGS\" > $LOG\r\n",
      "\r\n",
      "    $hts \\\r\n",
      "        -td $HMMdir/tree-duration.inf \\\r\n",
      "        -tf $HMMdir/tree-logF0.inf \\\r\n",
      "        -tm $HMMdir/tree-mcep.inf \\\r\n",
      "        -ta $HMMdir/tree-bndap.inf \\\r\n",
      "        -md $HMMdir/duration.pdf \\\r\n",
      "        -mf $HMMdir/logF0.pdf \\\r\n",
      "        -mm $HMMdir/mcep.pdf \\\r\n",
      "        -ma $HMMdir/bndap.pdf \\\r\n",
      "        -df $HMMdir/logF0_d1.win \\\r\n",
      "        -df $HMMdir/logF0_d2.win \\\r\n",
      "        -dm $HMMdir/mcep_d1.win \\\r\n",
      "        -dm $HMMdir/mcep_d2.win \\\r\n",
      "        -da $HMMdir/bndap_d1.win \\\r\n",
      "        -da $HMMdir/bndap_d2.win \\\r\n",
      "        -e $lambda \\\r\n",
      "        -of $f0 \\\r\n",
      "        -om $mcep \\\r\n",
      "        -oa $apf \\\r\n",
      "        $htsopt \\\r\n",
      "        $lab >>& $LOG\r\n",
      "\r\n",
      "    x2x +fd $apf  > $apf.double\r\n",
      "    x2x +fa $f0   > $f0.txt\r\n",
      "\r\n",
      "end\r\n"
     ]
    }
   ],
   "source": [
    "\n"
   ]
  },
  {
   "cell_type": "code",
   "execution_count": 8,
   "metadata": {},
   "outputs": [
    {
     "name": "stdout",
     "output_type": "stream",
     "text": [
      "F0 transform:\r\n",
      "Mel transform\r\n",
      "Bark scale (by Julius)\r\n"
     ]
    }
   ],
   "source": [
    "!./scripts/lab2traj.sh -labdur -hmmdir models/hts -labdir original/lab -outdir traj-dur -filename utt1"
   ]
  },
  {
   "cell_type": "code",
   "execution_count": 3,
   "metadata": {},
   "outputs": [],
   "source": [
    "!./scripts/getexpert.sh -hmmdir models/htk -labdir original/lab -stream 1 -dimension 4 \\\n",
    "          -outdir expts  -filename utt1\n"
   ]
  },
  {
   "cell_type": "code",
   "execution_count": null,
   "metadata": {},
   "outputs": [],
   "source": []
  }
 ],
 "metadata": {
  "kernelspec": {
   "display_name": "Python 2",
   "language": "python",
   "name": "python2"
  },
  "language_info": {
   "codemirror_mode": {
    "name": "ipython",
    "version": 2
   },
   "file_extension": ".py",
   "mimetype": "text/x-python",
   "name": "python",
   "nbconvert_exporter": "python",
   "pygments_lexer": "ipython2",
   "version": "2.7.12"
  }
 },
 "nbformat": 4,
 "nbformat_minor": 2
}
